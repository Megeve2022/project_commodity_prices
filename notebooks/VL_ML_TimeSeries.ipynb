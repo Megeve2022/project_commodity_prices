{
 "cells": [
  {
   "cell_type": "markdown",
   "id": "2dbc70aa",
   "metadata": {},
   "source": [
    "Time Series Analisys for Soybean"
   ]
  },
  {
   "cell_type": "code",
   "execution_count": 1,
   "id": "94883fb9",
   "metadata": {},
   "outputs": [],
   "source": [
    "import pandas as pd\n",
    "import numpy as np\n",
    "import matplotlib.pyplot as plt\n",
    "import seaborn as sns\n",
    "import yfinance as yf\n",
    "\n",
    "from sklearn.linear_model import LinearRegression\n",
    "\n",
    "from statsmodels.tsa.seasonal import seasonal_decompose"
   ]
  },
  {
   "cell_type": "code",
   "execution_count": 2,
   "id": "cb9c4aad",
   "metadata": {},
   "outputs": [],
   "source": [
    "# Variables of soybeans and soy sub-products\n",
    "# soyMeal = yf.Ticker('ZM=F')\n",
    "# soyOil = yf.Ticker('ZL=F')\n",
    "soybean = yf.Ticker('ZS=F')\n",
    "\n",
    "# soyMeal = soyMeal.history(period=\"max\")\n",
    "# soyOil = soyOil.history(period=\"max\")\n",
    "soybean = soybean.history(period=\"max\")\n",
    "\n",
    "# Lists I use for manipulating the dataframe for each commodity\n",
    "commodities = [soybean]\n",
    "commodityName = ['soybean']\n",
    "\n"
   ]
  },
  {
   "cell_type": "code",
   "execution_count": 3,
   "id": "5479fa12",
   "metadata": {},
   "outputs": [],
   "source": [
    "# Drop all columns except date and close price, rename close price to name of the commodity\n",
    "col2drop = ['Open', 'High', 'Low', 'Volume', 'Dividends', 'Stock Splits']\n",
    "count = 0\n",
    "\n",
    "for i in commodities:\n",
    "    i.drop(columns = col2drop, axis = 0, inplace = True)\n",
    "    i.columns = [commodityName[count]]\n",
    "    count += 1"
   ]
  },
  {
   "cell_type": "code",
   "execution_count": 4,
   "id": "373c53c4",
   "metadata": {},
   "outputs": [
    {
     "data": {
      "text/html": [
       "<div>\n",
       "<style scoped>\n",
       "    .dataframe tbody tr th:only-of-type {\n",
       "        vertical-align: middle;\n",
       "    }\n",
       "\n",
       "    .dataframe tbody tr th {\n",
       "        vertical-align: top;\n",
       "    }\n",
       "\n",
       "    .dataframe thead th {\n",
       "        text-align: right;\n",
       "    }\n",
       "</style>\n",
       "<table border=\"1\" class=\"dataframe\">\n",
       "  <thead>\n",
       "    <tr style=\"text-align: right;\">\n",
       "      <th></th>\n",
       "      <th>soybean</th>\n",
       "    </tr>\n",
       "    <tr>\n",
       "      <th>Date</th>\n",
       "      <th></th>\n",
       "    </tr>\n",
       "  </thead>\n",
       "  <tbody>\n",
       "    <tr>\n",
       "      <th>2000-09-15</th>\n",
       "      <td>493.75</td>\n",
       "    </tr>\n",
       "    <tr>\n",
       "      <th>2000-09-18</th>\n",
       "      <td>484.00</td>\n",
       "    </tr>\n",
       "    <tr>\n",
       "      <th>2000-09-19</th>\n",
       "      <td>484.25</td>\n",
       "    </tr>\n",
       "    <tr>\n",
       "      <th>2000-09-20</th>\n",
       "      <td>483.25</td>\n",
       "    </tr>\n",
       "    <tr>\n",
       "      <th>2000-09-21</th>\n",
       "      <td>486.50</td>\n",
       "    </tr>\n",
       "    <tr>\n",
       "      <th>...</th>\n",
       "      <td>...</td>\n",
       "    </tr>\n",
       "    <tr>\n",
       "      <th>2022-03-14</th>\n",
       "      <td>1687.25</td>\n",
       "    </tr>\n",
       "    <tr>\n",
       "      <th>2022-03-15</th>\n",
       "      <td>1658.75</td>\n",
       "    </tr>\n",
       "    <tr>\n",
       "      <th>2022-03-16</th>\n",
       "      <td>1649.25</td>\n",
       "    </tr>\n",
       "    <tr>\n",
       "      <th>2022-03-17</th>\n",
       "      <td>1668.50</td>\n",
       "    </tr>\n",
       "    <tr>\n",
       "      <th>2022-03-18</th>\n",
       "      <td>1664.25</td>\n",
       "    </tr>\n",
       "  </tbody>\n",
       "</table>\n",
       "<p>5411 rows × 1 columns</p>\n",
       "</div>"
      ],
      "text/plain": [
       "            soybean\n",
       "Date               \n",
       "2000-09-15   493.75\n",
       "2000-09-18   484.00\n",
       "2000-09-19   484.25\n",
       "2000-09-20   483.25\n",
       "2000-09-21   486.50\n",
       "...             ...\n",
       "2022-03-14  1687.25\n",
       "2022-03-15  1658.75\n",
       "2022-03-16  1649.25\n",
       "2022-03-17  1668.50\n",
       "2022-03-18  1664.25\n",
       "\n",
       "[5411 rows x 1 columns]"
      ]
     },
     "execution_count": 4,
     "metadata": {},
     "output_type": "execute_result"
    }
   ],
   "source": [
    "# Join all data frames into one\n",
    "df = pd.concat(commodities, join='outer', axis=1)\n",
    "\n",
    "# Some prices are missing for things like holidays, use forward fill to make the missing values the same as the previous\n",
    "df.ffill()\n",
    "df.dropna()"
   ]
  },
  {
   "cell_type": "code",
   "execution_count": 5,
   "id": "d80e18b8",
   "metadata": {},
   "outputs": [
    {
     "data": {
      "image/png": "[encoded data removed]",
      "text/plain": [
       "<Figure size 432x288 with 1 Axes>"
      ]
     },
     "metadata": {
      "needs_background": "light"
     },
     "output_type": "display_data"
    }
   ],
   "source": [
    "plt.plot(df);"
   ]
  },
  {
   "cell_type": "code",
   "execution_count": 6,
   "id": "18499fb1",
   "metadata": {},
   "outputs": [],
   "source": [
    "#df_copy = df.reset_index(level=0)"
   ]
  },
  {
   "cell_type": "code",
   "execution_count": 7,
   "id": "b38696ef",
   "metadata": {},
   "outputs": [],
   "source": [
    "# Filtrando os dados anteriores ao ano 2000 (Nao temos todos os dias desse ano)\n",
    "#df_copy = df_copy[df_copy['Date']>\"2000-12-31\"]"
   ]
  },
  {
   "cell_type": "code",
   "execution_count": 8,
   "id": "39cdbedb",
   "metadata": {},
   "outputs": [],
   "source": [
    "#df_copy = df_copy.drop(columns = \"Date\")"
   ]
  },
  {
   "cell_type": "code",
   "execution_count": 9,
   "id": "e1108aec",
   "metadata": {},
   "outputs": [],
   "source": [
    "#df_copy = df_copy.set_index(\"Date\")\n",
    "#df_copy"
   ]
  },
  {
   "cell_type": "code",
   "execution_count": 10,
   "id": "8bc9197f",
   "metadata": {},
   "outputs": [],
   "source": [
    "y = df.values\n"
   ]
  },
  {
   "cell_type": "code",
   "execution_count": 11,
   "id": "8fb0ee85",
   "metadata": {},
   "outputs": [],
   "source": [
    "# let's keep the last 40% values out for test purposes\n",
    "train_size = 0.6\n",
    "index = round(train_size*df.shape[0])\n",
    "df_train = df.iloc[:index]\n",
    "df_test = df.iloc[index:]"
   ]
  },
  {
   "cell_type": "code",
   "execution_count": 12,
   "id": "410ff83a",
   "metadata": {},
   "outputs": [
    {
     "data": {
      "text/html": [
       "<div>\n",
       "<style scoped>\n",
       "    .dataframe tbody tr th:only-of-type {\n",
       "        vertical-align: middle;\n",
       "    }\n",
       "\n",
       "    .dataframe tbody tr th {\n",
       "        vertical-align: top;\n",
       "    }\n",
       "\n",
       "    .dataframe thead th {\n",
       "        text-align: right;\n",
       "    }\n",
       "</style>\n",
       "<table border=\"1\" class=\"dataframe\">\n",
       "  <thead>\n",
       "    <tr style=\"text-align: right;\">\n",
       "      <th></th>\n",
       "      <th>soybean</th>\n",
       "    </tr>\n",
       "    <tr>\n",
       "      <th>Date</th>\n",
       "      <th></th>\n",
       "    </tr>\n",
       "  </thead>\n",
       "  <tbody>\n",
       "    <tr>\n",
       "      <th>2013-08-13</th>\n",
       "      <td>NaN</td>\n",
       "    </tr>\n",
       "    <tr>\n",
       "      <th>2013-08-14</th>\n",
       "      <td>1359.75</td>\n",
       "    </tr>\n",
       "    <tr>\n",
       "      <th>2013-08-15</th>\n",
       "      <td>1368.00</td>\n",
       "    </tr>\n",
       "    <tr>\n",
       "      <th>2013-08-16</th>\n",
       "      <td>1288.25</td>\n",
       "    </tr>\n",
       "    <tr>\n",
       "      <th>2013-08-19</th>\n",
       "      <td>1283.25</td>\n",
       "    </tr>\n",
       "    <tr>\n",
       "      <th>...</th>\n",
       "      <td>...</td>\n",
       "    </tr>\n",
       "    <tr>\n",
       "      <th>2022-03-14</th>\n",
       "      <td>1690.75</td>\n",
       "    </tr>\n",
       "    <tr>\n",
       "      <th>2022-03-15</th>\n",
       "      <td>1687.25</td>\n",
       "    </tr>\n",
       "    <tr>\n",
       "      <th>2022-03-16</th>\n",
       "      <td>1658.75</td>\n",
       "    </tr>\n",
       "    <tr>\n",
       "      <th>2022-03-17</th>\n",
       "      <td>1649.25</td>\n",
       "    </tr>\n",
       "    <tr>\n",
       "      <th>2022-03-18</th>\n",
       "      <td>1668.50</td>\n",
       "    </tr>\n",
       "  </tbody>\n",
       "</table>\n",
       "<p>2164 rows × 1 columns</p>\n",
       "</div>"
      ],
      "text/plain": [
       "            soybean\n",
       "Date               \n",
       "2013-08-13      NaN\n",
       "2013-08-14  1359.75\n",
       "2013-08-15  1368.00\n",
       "2013-08-16  1288.25\n",
       "2013-08-19  1283.25\n",
       "...             ...\n",
       "2022-03-14  1690.75\n",
       "2022-03-15  1687.25\n",
       "2022-03-16  1658.75\n",
       "2022-03-17  1649.25\n",
       "2022-03-18  1668.50\n",
       "\n",
       "[2164 rows x 1 columns]"
      ]
     },
     "execution_count": 12,
     "metadata": {},
     "output_type": "execute_result"
    }
   ],
   "source": [
    "y_pred = df_test.shift(1)\n",
    "y_pred"
   ]
  },
  {
   "cell_type": "code",
   "execution_count": 13,
   "id": "4153f92d",
   "metadata": {},
   "outputs": [
    {
     "name": "stdout",
     "output_type": "stream",
     "text": [
      "R2:0.9946930150865531\n"
     ]
    }
   ],
   "source": [
    "from sklearn.metrics import r2_score\n",
    "\n",
    "y_pred = df_test.shift(1).dropna()\n",
    "y_true = df_test[1:]\n",
    "print(f\"R2:{r2_score(y_true, y_pred)}\")"
   ]
  },
  {
   "cell_type": "markdown",
   "id": "c454694c",
   "metadata": {},
   "source": [
    "# Linear model with 12 auto-regressive features"
   ]
  },
  {
   "cell_type": "code",
   "execution_count": 14,
   "id": "a9ba7a1f",
   "metadata": {},
   "outputs": [
    {
     "data": {
      "text/html": [
       "<div>\n",
       "<style scoped>\n",
       "    .dataframe tbody tr th:only-of-type {\n",
       "        vertical-align: middle;\n",
       "    }\n",
       "\n",
       "    .dataframe tbody tr th {\n",
       "        vertical-align: top;\n",
       "    }\n",
       "\n",
       "    .dataframe thead th {\n",
       "        text-align: right;\n",
       "    }\n",
       "</style>\n",
       "<table border=\"1\" class=\"dataframe\">\n",
       "  <thead>\n",
       "    <tr style=\"text-align: right;\">\n",
       "      <th></th>\n",
       "      <th>soybean</th>\n",
       "      <th>t - 1</th>\n",
       "      <th>t - 2</th>\n",
       "      <th>t - 3</th>\n",
       "      <th>t - 4</th>\n",
       "      <th>t - 5</th>\n",
       "      <th>t - 6</th>\n",
       "      <th>t - 7</th>\n",
       "      <th>t - 8</th>\n",
       "      <th>t - 9</th>\n",
       "      <th>t - 10</th>\n",
       "      <th>t - 11</th>\n",
       "      <th>t - 12</th>\n",
       "    </tr>\n",
       "    <tr>\n",
       "      <th>Date</th>\n",
       "      <th></th>\n",
       "      <th></th>\n",
       "      <th></th>\n",
       "      <th></th>\n",
       "      <th></th>\n",
       "      <th></th>\n",
       "      <th></th>\n",
       "      <th></th>\n",
       "      <th></th>\n",
       "      <th></th>\n",
       "      <th></th>\n",
       "      <th></th>\n",
       "      <th></th>\n",
       "    </tr>\n",
       "  </thead>\n",
       "  <tbody>\n",
       "    <tr>\n",
       "      <th>2000-10-03</th>\n",
       "      <td>488.50</td>\n",
       "      <td>488.50</td>\n",
       "      <td>499.00</td>\n",
       "      <td>497.0</td>\n",
       "      <td>492.5</td>\n",
       "      <td>496.5</td>\n",
       "      <td>496.5</td>\n",
       "      <td>491.0</td>\n",
       "      <td>486.5</td>\n",
       "      <td>483.25</td>\n",
       "      <td>484.25</td>\n",
       "      <td>484.00</td>\n",
       "      <td>493.75</td>\n",
       "    </tr>\n",
       "    <tr>\n",
       "      <th>2000-10-04</th>\n",
       "      <td>489.00</td>\n",
       "      <td>488.50</td>\n",
       "      <td>488.50</td>\n",
       "      <td>499.0</td>\n",
       "      <td>497.0</td>\n",
       "      <td>492.5</td>\n",
       "      <td>496.5</td>\n",
       "      <td>496.5</td>\n",
       "      <td>491.0</td>\n",
       "      <td>486.50</td>\n",
       "      <td>483.25</td>\n",
       "      <td>484.25</td>\n",
       "      <td>484.00</td>\n",
       "    </tr>\n",
       "    <tr>\n",
       "      <th>2000-10-05</th>\n",
       "      <td>485.75</td>\n",
       "      <td>489.00</td>\n",
       "      <td>488.50</td>\n",
       "      <td>488.5</td>\n",
       "      <td>499.0</td>\n",
       "      <td>497.0</td>\n",
       "      <td>492.5</td>\n",
       "      <td>496.5</td>\n",
       "      <td>496.5</td>\n",
       "      <td>491.00</td>\n",
       "      <td>486.50</td>\n",
       "      <td>483.25</td>\n",
       "      <td>484.25</td>\n",
       "    </tr>\n",
       "    <tr>\n",
       "      <th>2000-10-06</th>\n",
       "      <td>486.00</td>\n",
       "      <td>485.75</td>\n",
       "      <td>489.00</td>\n",
       "      <td>488.5</td>\n",
       "      <td>488.5</td>\n",
       "      <td>499.0</td>\n",
       "      <td>497.0</td>\n",
       "      <td>492.5</td>\n",
       "      <td>496.5</td>\n",
       "      <td>496.50</td>\n",
       "      <td>491.00</td>\n",
       "      <td>486.50</td>\n",
       "      <td>483.25</td>\n",
       "    </tr>\n",
       "    <tr>\n",
       "      <th>2000-10-09</th>\n",
       "      <td>484.50</td>\n",
       "      <td>486.00</td>\n",
       "      <td>485.75</td>\n",
       "      <td>489.0</td>\n",
       "      <td>488.5</td>\n",
       "      <td>488.5</td>\n",
       "      <td>499.0</td>\n",
       "      <td>497.0</td>\n",
       "      <td>492.5</td>\n",
       "      <td>496.50</td>\n",
       "      <td>496.50</td>\n",
       "      <td>491.00</td>\n",
       "      <td>486.50</td>\n",
       "    </tr>\n",
       "  </tbody>\n",
       "</table>\n",
       "</div>"
      ],
      "text/plain": [
       "            soybean   t - 1   t - 2  t - 3  t - 4  t - 5  t - 6  t - 7  t - 8  \\\n",
       "Date                                                                            \n",
       "2000-10-03   488.50  488.50  499.00  497.0  492.5  496.5  496.5  491.0  486.5   \n",
       "2000-10-04   489.00  488.50  488.50  499.0  497.0  492.5  496.5  496.5  491.0   \n",
       "2000-10-05   485.75  489.00  488.50  488.5  499.0  497.0  492.5  496.5  496.5   \n",
       "2000-10-06   486.00  485.75  489.00  488.5  488.5  499.0  497.0  492.5  496.5   \n",
       "2000-10-09   484.50  486.00  485.75  489.0  488.5  488.5  499.0  497.0  492.5   \n",
       "\n",
       "             t - 9  t - 10  t - 11  t - 12  \n",
       "Date                                        \n",
       "2000-10-03  483.25  484.25  484.00  493.75  \n",
       "2000-10-04  486.50  483.25  484.25  484.00  \n",
       "2000-10-05  491.00  486.50  483.25  484.25  \n",
       "2000-10-06  496.50  491.00  486.50  483.25  \n",
       "2000-10-09  496.50  496.50  491.00  486.50  "
      ]
     },
     "execution_count": 14,
     "metadata": {},
     "output_type": "execute_result"
    }
   ],
   "source": [
    "df2 = df.copy()\n",
    "df2_train = df_train.copy()\n",
    "df2_test = df_test.copy()\n",
    "\n",
    "for i in range(1, 13):\n",
    "    df2_train[f't - {i}'] = df_train['soybean'].shift(i)\n",
    "    df2_test[f't - {i}'] = df_test['soybean'].shift(i)\n",
    "\n",
    "df2_train.dropna(inplace=True)    \n",
    "df2_test.dropna(inplace=True)    \n",
    "df2_train.head()"
   ]
  },
  {
   "cell_type": "code",
   "execution_count": 15,
   "id": "efeb5a4b",
   "metadata": {},
   "outputs": [
    {
     "name": "stdout",
     "output_type": "stream",
     "text": [
      "(3235, 12) (3235,) (2152, 12) (2152,)\n"
     ]
    }
   ],
   "source": [
    "# Train Test Split\n",
    "X2_train = df2_train.drop(columns = ['soybean'])\n",
    "y2_train = df2_train['soybean']\n",
    "X2_test = df2_test.drop(columns = ['soybean'])\n",
    "y2_test = df2_test['soybean']\n",
    "\n",
    "print(X2_train.shape,y2_train.shape, X2_test.shape,y2_test.shape)"
   ]
  },
  {
   "cell_type": "code",
   "execution_count": 16,
   "id": "52ef9cf3",
   "metadata": {},
   "outputs": [
    {
     "name": "stdout",
     "output_type": "stream",
     "text": [
      "R2:  0.9947992221576248\n"
     ]
    },
    {
     "data": {
      "image/png": "[encoded data removed]",
      "text/plain": [
       "<Figure size 432x288 with 1 Axes>"
      ]
     },
     "metadata": {
      "needs_background": "light"
     },
     "output_type": "display_data"
    }
   ],
   "source": [
    "# Predict and measure R2\n",
    "model = LinearRegression()\n",
    "model = model.fit(X2_train, y2_train)\n",
    "\n",
    "print('R2: ', r2_score(y2_test, model.predict(X2_test)))\n",
    "pd.Series(model.coef_).plot(kind='bar')\n",
    "plt.title('partial regression coefficients');"
   ]
  },
  {
   "cell_type": "markdown",
   "id": "9cb31892",
   "metadata": {},
   "source": [
    "Only the 12th coefficient convey some information to the model (a Linear Regression based on these 12 autoregressive features)\n",
    "\n",
    "Except for the 12th coefficient, most of the prediction is done by the intercept (basically predicting the mean of the last 12 values)\n",
    "\n",
    "All the other features are statistically insignificant (high p-values)"
   ]
  },
  {
   "cell_type": "markdown",
   "id": "6599723d",
   "metadata": {},
   "source": [
    "## Decomposition"
   ]
  },
  {
   "cell_type": "code",
   "execution_count": 17,
   "id": "4821ab50",
   "metadata": {},
   "outputs": [
    {
     "data": {
      "image/png": "[encoded data removed]",
      "text/plain": [
       "<Figure size 432x288 with 4 Axes>"
      ]
     },
     "metadata": {
      "needs_background": "light"
     },
     "output_type": "display_data"
    }
   ],
   "source": [
    "# Additive Decomposition (y = Trend + Seasonal + Residuals)\n",
    "result_add = seasonal_decompose(df, model='additive', period = 253, extrapolate_trend='freq')\n",
    "result_add.plot();"
   ]
  },
  {
   "cell_type": "code",
   "execution_count": 18,
   "id": "6b8148ad",
   "metadata": {},
   "outputs": [
    {
     "data": {
      "image/png": "[encoded data removed]",
      "text/plain": [
       "<Figure size 432x288 with 4 Axes>"
      ]
     },
     "metadata": {
      "needs_background": "light"
     },
     "output_type": "display_data"
    }
   ],
   "source": [
    "# Multiplicative Decomposition (y = Trend * Seasonal * Residuals)\n",
    "result_mul = seasonal_decompose(df, model='multiplicative', period = 253, extrapolate_trend='freq')\n",
    "\n",
    "result_mul.plot();"
   ]
  },
  {
   "cell_type": "code",
   "execution_count": 19,
   "id": "75b52cbf",
   "metadata": {},
   "outputs": [
    {
     "name": "stdout",
     "output_type": "stream",
     "text": [
      "            soybean\n",
      "Date               \n",
      "2000-09-15   493.75\n",
      "493.75\n",
      "493.74999999999994\n"
     ]
    }
   ],
   "source": [
    "print(df.head(1))\n",
    "print(result_add.trend[0] + result_add.seasonal[0] + result_add.resid[0])\n",
    "print(result_mul.trend[0] * result_mul.seasonal[0] * result_mul.resid[0])"
   ]
  },
  {
   "cell_type": "code",
   "execution_count": 20,
   "id": "e3036e4b",
   "metadata": {},
   "outputs": [
    {
     "data": {
      "image/png": "[encoded data removed]",
      "text/plain": [
       "<Figure size 936x216 with 2 Axes>"
      ]
     },
     "metadata": {
      "needs_background": "light"
     },
     "output_type": "display_data"
    }
   ],
   "source": [
    "# Plot the residuals with \"result_add.resid\" to decide\n",
    "f, (ax1, ax2) = plt.subplots(1,2, figsize=(13,3))\n",
    "ax1.plot(result_add.resid); ax1.set_title(\"Additive model residuals\")\n",
    "ax2.plot(result_mul.resid); ax2.set_title(\"Multiplicative model residuals\");"
   ]
  },
  {
   "cell_type": "markdown",
   "id": "ef74c920",
   "metadata": {},
   "source": [
    "☝️ Additive and Multiplicative residuals seem to have| \"stationarity\""
   ]
  },
  {
   "cell_type": "markdown",
   "id": "e772f2e1",
   "metadata": {},
   "source": [
    "## Testing the stationarity of our series"
   ]
  },
  {
   "cell_type": "markdown",
   "id": "29e0d1ba",
   "metadata": {},
   "source": [
    "Augmented Dickey Fuller - ADF Tests\n",
    "\n",
    "\n",
    "ADF tests the following null hypothesis:\n",
    "\n",
    "H0 : The series is not-stationary.\n",
    "\n",
    "A p-value close to 0 (e.g. p < 0.05) indicates stationarity."
   ]
  },
  {
   "cell_type": "code",
   "execution_count": 21,
   "id": "846d7283",
   "metadata": {},
   "outputs": [
    {
     "data": {
      "text/plain": [
       "0.42145567783479054"
      ]
     },
     "execution_count": 21,
     "metadata": {},
     "output_type": "execute_result"
    }
   ],
   "source": [
    "from statsmodels.tsa.stattools import adfuller\n",
    "\n",
    "adfuller(df['soybean'])[1]  # p-value"
   ]
  },
  {
   "cell_type": "code",
   "execution_count": 22,
   "id": "5d19801e",
   "metadata": {},
   "outputs": [],
   "source": [
    "# Sem nenhuma diferenciacao a serie nao eh estacionario, p-value > 0.05"
   ]
  },
  {
   "cell_type": "code",
   "execution_count": 23,
   "id": "b0039f08",
   "metadata": {},
   "outputs": [
    {
     "name": "stdout",
     "output_type": "stream",
     "text": [
      "additive resid:  1.0392642012307848e-10\n",
      "multipl resid:  7.356272403140966e-12\n"
     ]
    }
   ],
   "source": [
    "print('additive resid: ', adfuller(result_add.resid.dropna())[1])\n",
    "print('multipl resid: ', adfuller(result_mul.resid.dropna())[1])"
   ]
  },
  {
   "cell_type": "markdown",
   "id": "3edc8271",
   "metadata": {},
   "source": [
    "☝️ p-values of the residuals are below 0.05, therefore we cannot discard the possibilities of our H0"
   ]
  },
  {
   "cell_type": "markdown",
   "id": "58f3998d",
   "metadata": {},
   "source": [
    "Storing the results into the DataFrame for the multiplicative results:"
   ]
  },
  {
   "cell_type": "code",
   "execution_count": 24,
   "id": "c7e64ebc",
   "metadata": {},
   "outputs": [
    {
     "data": {
      "text/html": [
       "<div>\n",
       "<style scoped>\n",
       "    .dataframe tbody tr th:only-of-type {\n",
       "        vertical-align: middle;\n",
       "    }\n",
       "\n",
       "    .dataframe tbody tr th {\n",
       "        vertical-align: top;\n",
       "    }\n",
       "\n",
       "    .dataframe thead th {\n",
       "        text-align: right;\n",
       "    }\n",
       "</style>\n",
       "<table border=\"1\" class=\"dataframe\">\n",
       "  <thead>\n",
       "    <tr style=\"text-align: right;\">\n",
       "      <th></th>\n",
       "      <th>soybean</th>\n",
       "      <th>trend</th>\n",
       "      <th>season</th>\n",
       "      <th>resid</th>\n",
       "    </tr>\n",
       "    <tr>\n",
       "      <th>Date</th>\n",
       "      <th></th>\n",
       "      <th></th>\n",
       "      <th></th>\n",
       "      <th></th>\n",
       "    </tr>\n",
       "  </thead>\n",
       "  <tbody>\n",
       "    <tr>\n",
       "      <th>2000-09-15</th>\n",
       "      <td>493.75</td>\n",
       "      <td>456.306155</td>\n",
       "      <td>0.944510</td>\n",
       "      <td>1.145629</td>\n",
       "    </tr>\n",
       "    <tr>\n",
       "      <th>2000-09-18</th>\n",
       "      <td>484.00</td>\n",
       "      <td>456.335518</td>\n",
       "      <td>0.942046</td>\n",
       "      <td>1.125872</td>\n",
       "    </tr>\n",
       "    <tr>\n",
       "      <th>2000-09-19</th>\n",
       "      <td>484.25</td>\n",
       "      <td>456.364881</td>\n",
       "      <td>0.940316</td>\n",
       "      <td>1.128454</td>\n",
       "    </tr>\n",
       "    <tr>\n",
       "      <th>2000-09-20</th>\n",
       "      <td>483.25</td>\n",
       "      <td>456.394244</td>\n",
       "      <td>0.944393</td>\n",
       "      <td>1.121189</td>\n",
       "    </tr>\n",
       "    <tr>\n",
       "      <th>2000-09-21</th>\n",
       "      <td>486.50</td>\n",
       "      <td>456.423606</td>\n",
       "      <td>0.945408</td>\n",
       "      <td>1.127445</td>\n",
       "    </tr>\n",
       "  </tbody>\n",
       "</table>\n",
       "</div>"
      ],
      "text/plain": [
       "            soybean       trend    season     resid\n",
       "Date                                               \n",
       "2000-09-15   493.75  456.306155  0.944510  1.145629\n",
       "2000-09-18   484.00  456.335518  0.942046  1.125872\n",
       "2000-09-19   484.25  456.364881  0.940316  1.128454\n",
       "2000-09-20   483.25  456.394244  0.944393  1.121189\n",
       "2000-09-21   486.50  456.423606  0.945408  1.127445"
      ]
     },
     "execution_count": 24,
     "metadata": {},
     "output_type": "execute_result"
    }
   ],
   "source": [
    "df['trend'] = result_mul.trend\n",
    "df['season'] = result_mul.seasonal\n",
    "df['resid'] = result_mul.resid\n",
    "df.head()"
   ]
  },
  {
   "cell_type": "markdown",
   "id": "e0919953",
   "metadata": {},
   "source": [
    "## Autocorrelation (ACF) and Partial Autocorrelation (AR / PACF)"
   ]
  },
  {
   "cell_type": "markdown",
   "id": "1abf1ed4",
   "metadata": {},
   "source": [
    "### Autocorrelation - Direct and Indirect impact of previous values against the present one"
   ]
  },
  {
   "cell_type": "markdown",
   "id": "83602dfa",
   "metadata": {},
   "source": [
    "The autocorrelation statistic measures how much does a value that is $n$ moments (hours, days, months, years, etc.) impacts the present value, both directly and indirectly.\n",
    "<img width=\"700\" src='attachment:image.png'>"
   ]
  },
  {
   "cell_type": "code",
   "execution_count": 26,
   "id": "582ef86c",
   "metadata": {},
   "outputs": [
    {
     "data": {
      "image/png": "[encoded data removed]",
      "text/plain": [
       "<Figure size 432x288 with 1 Axes>"
      ]
     },
     "metadata": {
      "needs_background": "light"
     },
     "output_type": "display_data"
    }
   ],
   "source": [
    "from statsmodels.graphics.tsaplots import plot_acf\n",
    "\n",
    "# let's see the acf for every value from 1 up to 50 \"lags\" before the actual one\n",
    "plot_acf(df['soybean'], lags=50)\n",
    "plt.show()"
   ]
  },
  {
   "cell_type": "markdown",
   "id": "0f71f91c",
   "metadata": {},
   "source": [
    "### Partial Autocorrelation - Direct impact only"
   ]
  },
  {
   "cell_type": "code",
   "execution_count": 27,
   "id": "393e441b",
   "metadata": {},
   "outputs": [
    {
     "data": {
      "image/png": "[encoded data removed]",
      "text/plain": [
       "<Figure size 432x288 with 1 Axes>"
      ]
     },
     "metadata": {
      "needs_background": "light"
     },
     "output_type": "display_data"
    }
   ],
   "source": [
    "from statsmodels.graphics.tsaplots import plot_pacf\n",
    "plot_pacf(df['soybean'], lags=50, c='r')\n",
    "plt.show()"
   ]
  },
  {
   "cell_type": "markdown",
   "id": "813cb8b9",
   "metadata": {},
   "source": [
    "The values shown in the graph above are the same as the ACF ones: they are correlations. However, AR removes the indirect correlation that past values might have between each other. So now, we can see that the **month before the actual** has a great correlation, but looking at two months before won't give us as much information. Looking 12 months behind, as expected, will also give us a high correlation by itself because of the seasonality"
   ]
  },
  {
   "cell_type": "markdown",
   "id": "3b8d05ae",
   "metadata": {},
   "source": [
    "## ARIMA - Auto Regressive Integrated Moving Average"
   ]
  },
  {
   "cell_type": "markdown",
   "id": "3fe07eae",
   "metadata": {},
   "source": [
    "To recap things, so far we've seen how:\n",
    "- a value in a Time Series can be caculated by a combination of trend, seasonality and residuals\n",
    "- we need to difference our data in order to make it stationary (and we can diff it as many times as needed)\n",
    "- Auto Regression (AR) shows how much does values prior to the actual one **directly** impact it\n",
    "- Moving Averages (MA) shows how far is the actual value to an average of some values prior to it"
   ]
  },
  {
   "cell_type": "markdown",
   "id": "552d952d",
   "metadata": {},
   "source": [
    "By combining these informations, clever people got to an interesting model called ARIMA. In it, we need to decide three parameters:\n",
    "- The amount of months prior the actual one to auto regress (which we'll call $p$) 🤔 12 months\n",
    "- The amount of times we'll diff our values to make them stationary (which we'll call $i$) 🤔 We need to test it accordingly\n",
    "- The amount of months to get the average and test against the actual one (which we'll call $q$) 🤔 lets give it a test too"
   ]
  },
  {
   "cell_type": "markdown",
   "id": "63e9dc1c",
   "metadata": {},
   "source": [
    "### Differencing"
   ]
  },
  {
   "cell_type": "code",
   "execution_count": 28,
   "id": "5c5435f8",
   "metadata": {},
   "outputs": [],
   "source": [
    "# diffed_one = df.diff()\n",
    "# diffed_one = diffed_one.dropna(inplace=True)\n",
    "# diffed_one"
   ]
  },
  {
   "cell_type": "code",
   "execution_count": 29,
   "id": "6e772b23",
   "metadata": {},
   "outputs": [
    {
     "data": {
      "text/plain": [
       "<AxesSubplot:xlabel='Date'>"
      ]
     },
     "execution_count": 29,
     "metadata": {},
     "output_type": "execute_result"
    },
    {
     "data": {
      "image/png": "[encoded data removed]",
      "text/plain": [
       "<Figure size 432x288 with 1 Axes>"
      ]
     },
     "metadata": {
      "needs_background": "light"
     },
     "output_type": "display_data"
    }
   ],
   "source": [
    "diffed_values = df['soybean'].diff()\n",
    "diffed_values.dropna(inplace=True)\n",
    "diffed_values.plot()"
   ]
  },
  {
   "cell_type": "code",
   "execution_count": 30,
   "id": "284c316c",
   "metadata": {},
   "outputs": [
    {
     "data": {
      "text/plain": [
       "1.2660263363317713e-27"
      ]
     },
     "execution_count": 30,
     "metadata": {},
     "output_type": "execute_result"
    }
   ],
   "source": [
    "adfuller(diffed_values)[1]"
   ]
  },
  {
   "cell_type": "code",
   "execution_count": 31,
   "id": "71ff0a56",
   "metadata": {},
   "outputs": [
    {
     "data": {
      "image/png": "[encoded data removed]",
      "text/plain": [
       "<Figure size 1152x180 with 3 Axes>"
      ]
     },
     "metadata": {
      "needs_background": "light"
     },
     "output_type": "display_data"
    }
   ],
   "source": [
    "# ACF / PACF analysis of y_diff linearized\n",
    "fig, axes = plt.subplots(1,3, figsize=(16,2.5))\n",
    "plot_pacf(diffed_values, ax=axes[0], c='r');\n",
    "axes[1].plot(diffed_values); axes[1].set_title('1st Order Differencing')\n",
    "plot_acf(diffed_values, ax=axes[2]);"
   ]
  },
  {
   "cell_type": "markdown",
   "id": "0098bdee",
   "metadata": {},
   "source": [
    "- With PACF, you'll be able to find $p$ by looking at how many dots you have **before the first one reaches the confidence area**\n",
    "- With 1st Order Differencing, you'll be able to check if your data is stationary. If not, diff it again (**but not too much**)\n",
    "- With ACF, you'll be able to find $q$ by looking at how many dots you have **before the first one reaches the confidence area**\n",
    "\n",
    "In our case, $p = 1, i = 1, q = 1$"
   ]
  },
  {
   "cell_type": "code",
   "execution_count": 34,
   "id": "a6fd75b9",
   "metadata": {},
   "outputs": [
    {
     "name": "stderr",
     "output_type": "stream",
     "text": [
      "/Users/vanessalieberg/.pyenv/versions/3.8.12/envs/lewagon/lib/python3.8/site-packages/statsmodels/tsa/base/tsa_model.py:216: ValueWarning: A date index has been provided, but it has no associated frequency information and so will be ignored when e.g. forecasting.\n",
      "  warnings.warn('A date index has been provided, but it has no'\n",
      "/Users/vanessalieberg/.pyenv/versions/3.8.12/envs/lewagon/lib/python3.8/site-packages/statsmodels/tsa/base/tsa_model.py:216: ValueWarning: A date index has been provided, but it has no associated frequency information and so will be ignored when e.g. forecasting.\n",
      "  warnings.warn('A date index has been provided, but it has no'\n"
     ]
    },
    {
     "name": "stdout",
     "output_type": "stream",
     "text": [
      "RUNNING THE L-BFGS-B CODE\n",
      "\n",
      "           * * *\n",
      "\n",
      "Machine precision = 2.220D-16\n",
      " N =            3     M =           12\n",
      "\n",
      "At X0         0 variables are exactly at the bounds\n",
      "\n",
      "At iterate    0    f=  4.26999D+00    |proj g|=  1.82077D-05\n",
      "\n",
      "At iterate    5    f=  4.26999D+00    |proj g|=  1.20970D-04\n",
      "\n",
      "At iterate   10    f=  4.26999D+00    |proj g|=  3.28626D-06\n",
      "\n",
      "           * * *\n",
      "\n",
      "Tit   = total number of iterations\n",
      "Tnf   = total number of function evaluations\n",
      "Tnint = total number of segments explored during Cauchy searches\n",
      "Skip  = number of BFGS updates skipped\n",
      "Nact  = number of active bounds at final generalized Cauchy point\n",
      "Projg = norm of the final projected gradient\n",
      "F     = final function value\n",
      "\n",
      "           * * *\n",
      "\n",
      "   N    Tit     Tnf  Tnint  Skip  Nact     Projg        F\n",
      "    3     13     15      1     0     0   0.000D+00   4.270D+00\n",
      "  F =   4.2699861255019442     \n",
      "\n",
      "CONVERGENCE: NORM_OF_PROJECTED_GRADIENT_<=_PGTOL            \n"
     ]
    },
    {
     "name": "stderr",
     "output_type": "stream",
     "text": [
      " This problem is unconstrained.\n"
     ]
    },
    {
     "data": {
      "text/html": [
       "<table class=\"simpletable\">\n",
       "<caption>ARIMA Model Results</caption>\n",
       "<tr>\n",
       "  <th>Dep. Variable:</th>     <td>D.soybean</td>    <th>  No. Observations:  </th>    <td>5410</td>   \n",
       "</tr>\n",
       "<tr>\n",
       "  <th>Model:</th>          <td>ARIMA(1, 1, 1)</td>  <th>  Log Likelihood     </th> <td>-23100.625</td>\n",
       "</tr>\n",
       "<tr>\n",
       "  <th>Method:</th>             <td>css-mle</td>     <th>  S.D. of innovations</th>   <td>17.306</td>  \n",
       "</tr>\n",
       "<tr>\n",
       "  <th>Date:</th>          <td>Fri, 18 Mar 2022</td> <th>  AIC                </th>  <td>46209.250</td>\n",
       "</tr>\n",
       "<tr>\n",
       "  <th>Time:</th>              <td>17:33:05</td>     <th>  BIC                </th>  <td>46235.634</td>\n",
       "</tr>\n",
       "<tr>\n",
       "  <th>Sample:</th>                <td>1</td>        <th>  HQIC               </th>  <td>46218.460</td>\n",
       "</tr>\n",
       "<tr>\n",
       "  <th></th>                       <td> </td>        <th>                     </th>      <td> </td>    \n",
       "</tr>\n",
       "</table>\n",
       "<table class=\"simpletable\">\n",
       "<tr>\n",
       "         <td></td>            <th>coef</th>     <th>std err</th>      <th>z</th>      <th>P>|z|</th>  <th>[0.025</th>    <th>0.975]</th>  \n",
       "</tr>\n",
       "<tr>\n",
       "  <th>const</th>           <td>    0.2165</td> <td>    0.224</td> <td>    0.966</td> <td> 0.334</td> <td>   -0.223</td> <td>    0.656</td>\n",
       "</tr>\n",
       "<tr>\n",
       "  <th>ar.L1.D.soybean</th> <td>    0.5580</td> <td>    0.246</td> <td>    2.266</td> <td> 0.023</td> <td>    0.075</td> <td>    1.041</td>\n",
       "</tr>\n",
       "<tr>\n",
       "  <th>ma.L1.D.soybean</th> <td>   -0.5789</td> <td>    0.242</td> <td>   -2.393</td> <td> 0.017</td> <td>   -1.053</td> <td>   -0.105</td>\n",
       "</tr>\n",
       "</table>\n",
       "<table class=\"simpletable\">\n",
       "<caption>Roots</caption>\n",
       "<tr>\n",
       "    <td></td>   <th>            Real</th>  <th>         Imaginary</th> <th>         Modulus</th>  <th>        Frequency</th>\n",
       "</tr>\n",
       "<tr>\n",
       "  <th>AR.1</th> <td>           1.7920</td> <td>          +0.0000j</td> <td>           1.7920</td> <td>           0.0000</td>\n",
       "</tr>\n",
       "<tr>\n",
       "  <th>MA.1</th> <td>           1.7274</td> <td>          +0.0000j</td> <td>           1.7274</td> <td>           0.0000</td>\n",
       "</tr>\n",
       "</table>"
      ],
      "text/plain": [
       "<class 'statsmodels.iolib.summary.Summary'>\n",
       "\"\"\"\n",
       "                             ARIMA Model Results                              \n",
       "==============================================================================\n",
       "Dep. Variable:              D.soybean   No. Observations:                 5410\n",
       "Model:                 ARIMA(1, 1, 1)   Log Likelihood              -23100.625\n",
       "Method:                       css-mle   S.D. of innovations             17.306\n",
       "Date:                Fri, 18 Mar 2022   AIC                          46209.250\n",
       "Time:                        17:33:05   BIC                          46235.634\n",
       "Sample:                             1   HQIC                         46218.460\n",
       "                                                                              \n",
       "===================================================================================\n",
       "                      coef    std err          z      P>|z|      [0.025      0.975]\n",
       "-----------------------------------------------------------------------------------\n",
       "const               0.2165      0.224      0.966      0.334      -0.223       0.656\n",
       "ar.L1.D.soybean     0.5580      0.246      2.266      0.023       0.075       1.041\n",
       "ma.L1.D.soybean    -0.5789      0.242     -2.393      0.017      -1.053      -0.105\n",
       "                                    Roots                                    \n",
       "=============================================================================\n",
       "                  Real          Imaginary           Modulus         Frequency\n",
       "-----------------------------------------------------------------------------\n",
       "AR.1            1.7920           +0.0000j            1.7920            0.0000\n",
       "MA.1            1.7274           +0.0000j            1.7274            0.0000\n",
       "-----------------------------------------------------------------------------\n",
       "\"\"\""
      ]
     },
     "execution_count": 34,
     "metadata": {},
     "output_type": "execute_result"
    }
   ],
   "source": [
    "from statsmodels.tsa.arima_model import ARIMA #statsmodels 0.11\n",
    "#from statsmodels.tsa.arima.model import ARIMA #statsmodels 0.12\n",
    "\n",
    "arima = ARIMA(df['soybean'], order=(1,1,1))\n",
    "arima = arima.fit()\n",
    "arima.summary()"
   ]
  },
  {
   "cell_type": "markdown",
   "id": "c239661f",
   "metadata": {},
   "source": [
    "### Interpretar o resultado:\n",
    "\n",
    "> Equacao da soja = 0.2165 + 0.558price_soy - 0.5789price_soy\n",
    "\n",
    "> Intercept = const >>> nao eh estatisticamente significante, Pz eh 0.334 (> 0.05)\n",
    "> Coef de AR e MA, sao significante, Pz igual a 0.023 e 0.017\n",
    "\n",
    "> Cada dia que passa o valor da soja aumenta (AR coef > 0), para cada valor da soja, o aumento eh de 0.558 \n",
    "Em contrapartida, o valor da moving average (coef <0), impacta ao contrario, reduz o valor para -0.5789"
   ]
  },
  {
   "cell_type": "code",
   "execution_count": 39,
   "id": "2559809a",
   "metadata": {},
   "outputs": [
    {
     "data": {
      "text/plain": [
       "[<matplotlib.lines.Line2D at 0x14c7798e0>]"
      ]
     },
     "execution_count": 39,
     "metadata": {},
     "output_type": "execute_result"
    },
    {
     "data": {
      "image/png": "[encoded data removed]",
      "text/plain": [
       "<Figure size 432x288 with 1 Axes>"
      ]
     },
     "metadata": {
      "needs_background": "light"
     },
     "output_type": "display_data"
    }
   ],
   "source": [
    "plt.plot(arima.forecast(253)[0])"
   ]
  },
  {
   "cell_type": "code",
   "execution_count": null,
   "id": "e58b6327",
   "metadata": {},
   "outputs": [],
   "source": [
    "# Let's remove seasons\n",
    "df['deseasonalized'] = df['soybena'].values/result_mul.seasonal\n",
    "\n",
    "plt.figure(figsize=(15,4)); plt.subplot(1,2,1); plt.plot(df.deseasonalized);\n",
    "plt.title('Drug Sales Deseasonalized', fontsize=16);\n",
    "\n",
    "# Also remove exponential trend \n",
    "df['linearized'] = np.log(df['deseasonalized'])\n",
    "\n",
    "plt.subplot(1,2,2); plt.plot(df['linearized'])\n",
    "plt.title('Drug Sales Linearized', fontsize=16);"
   ]
  },
  {
   "cell_type": "code",
   "execution_count": null,
   "id": "f2765d9f",
   "metadata": {},
   "outputs": [],
   "source": []
  },
  {
   "cell_type": "code",
   "execution_count": null,
   "id": "07d1f2d1",
   "metadata": {},
   "outputs": [],
   "source": []
  }
 ],
 "metadata": {
  "kernelspec": {
   "display_name": "Python 3 (ipykernel)",
   "language": "python",
   "name": "python3"
  },
  "language_info": {
   "codemirror_mode": {
    "name": "ipython",
    "version": 3
   },
   "file_extension": ".py",
   "mimetype": "text/x-python",
   "name": "python",
   "nbconvert_exporter": "python",
   "pygments_lexer": "ipython3",
   "version": "3.8.12"
  },
  "toc": {
   "base_numbering": 1,
   "nav_menu": {},
   "number_sections": true,
   "sideBar": true,
   "skip_h1_title": false,
   "title_cell": "Table of Contents",
   "title_sidebar": "Contents",
   "toc_cell": false,
   "toc_position": {},
   "toc_section_display": true,
   "toc_window_display": false
  }
 },
 "nbformat": 4,
 "nbformat_minor": 5
}
