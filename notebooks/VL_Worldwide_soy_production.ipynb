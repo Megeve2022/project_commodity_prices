{
 "cells": [
  {
   "cell_type": "markdown",
   "id": "aca1e848",
   "metadata": {
    "slideshow": {
     "slide_type": "slide"
    }
   },
   "source": [
    "# Worldwide soybean production"
   ]
  },
  {
   "cell_type": "markdown",
   "id": "5a18b18e",
   "metadata": {
    "slideshow": {
     "slide_type": "subslide"
    }
   },
   "source": [
    "Our objective is to understand what countries are the main producers of soybeans.\n",
    "Our aim is to select the top main producers to provide a statistical analysis of its production of soybeans on the futures prices"
   ]
  },
  {
   "cell_type": "markdown",
   "id": "1d6c302c",
   "metadata": {
    "slideshow": {
     "slide_type": "skip"
    }
   },
   "source": [
    "### Dataset source:"
   ]
  },
  {
   "cell_type": "markdown",
   "id": "b3cb356e",
   "metadata": {
    "slideshow": {
     "slide_type": "skip"
    }
   },
   "source": [
    "[Foreign Agricultural Service (FAS)](https://apps.fas.usda.gov/psdonline/app/index.html#/app/advQuery)\n",
    "\n",
    "\n",
    "[Statista Data for the US Production](https://www.statista.com/statistics/192058/production-of-soybeans-for-beans-in-the-us-since-2000/)"
   ]
  },
  {
   "cell_type": "markdown",
   "id": "8422277b",
   "metadata": {},
   "source": [
    "## imports utilizados no projeto"
   ]
  },
  {
   "cell_type": "code",
   "execution_count": 1,
   "id": "218f5b90",
   "metadata": {},
   "outputs": [],
   "source": [
    "import pandas as pd\n",
    "import numpy as np\n",
    "import matplotlib.pyplot as plt\n",
    "import seaborn as sns\n",
    "import yfinance as yf"
   ]
  },
  {
   "cell_type": "markdown",
   "id": "19f6ed9a",
   "metadata": {},
   "source": [
    "# Production Data Overview"
   ]
  },
  {
   "cell_type": "code",
   "execution_count": 2,
   "id": "936770b5",
   "metadata": {},
   "outputs": [],
   "source": [
    "# Download the dataset\n",
    "# Production = 1000MT\n",
    "\n",
    "data = pd.read_csv('../raw_data/FAS_Oilseed_soybean_production_world.csv', thousands = \",\")"
   ]
  },
  {
   "cell_type": "code",
   "execution_count": 3,
   "id": "4a662f4d",
   "metadata": {},
   "outputs": [],
   "source": [
    "data[\"Crop_year\"] = data['Year'].apply(lambda year: int(year.split(\"/\")[0]))"
   ]
  },
  {
   "cell_type": "code",
   "execution_count": 4,
   "id": "c300f2b8",
   "metadata": {},
   "outputs": [
    {
     "data": {
      "text/plain": [
       "(58, 101)"
      ]
     },
     "execution_count": 4,
     "metadata": {},
     "output_type": "execute_result"
    }
   ],
   "source": [
    "data.shape"
   ]
  },
  {
   "cell_type": "code",
   "execution_count": 5,
   "id": "bfdbec09",
   "metadata": {},
   "outputs": [
    {
     "data": {
      "text/html": [
       "<div>\n",
       "<style scoped>\n",
       "    .dataframe tbody tr th:only-of-type {\n",
       "        vertical-align: middle;\n",
       "    }\n",
       "\n",
       "    .dataframe tbody tr th {\n",
       "        vertical-align: top;\n",
       "    }\n",
       "\n",
       "    .dataframe thead th {\n",
       "        text-align: right;\n",
       "    }\n",
       "</style>\n",
       "<table border=\"1\" class=\"dataframe\">\n",
       "  <thead>\n",
       "    <tr style=\"text-align: right;\">\n",
       "      <th></th>\n",
       "      <th>Year</th>\n",
       "      <th>Attribute</th>\n",
       "      <th>Commodity</th>\n",
       "      <th>Algeria</th>\n",
       "      <th>Argentina</th>\n",
       "      <th>Australia</th>\n",
       "      <th>Austria</th>\n",
       "      <th>Bangladesh</th>\n",
       "      <th>Barbados</th>\n",
       "      <th>Belarus</th>\n",
       "      <th>...</th>\n",
       "      <th>United States</th>\n",
       "      <th>Uruguay</th>\n",
       "      <th>Uzbekistan</th>\n",
       "      <th>Venezuela</th>\n",
       "      <th>Vietnam</th>\n",
       "      <th>Zambia</th>\n",
       "      <th>Zimbabwe</th>\n",
       "      <th>Unit Description</th>\n",
       "      <th>Total_Production</th>\n",
       "      <th>Crop_year</th>\n",
       "    </tr>\n",
       "  </thead>\n",
       "  <tbody>\n",
       "    <tr>\n",
       "      <th>0</th>\n",
       "      <td>1964/1965</td>\n",
       "      <td>Production</td>\n",
       "      <td>Oilseed, Soybean</td>\n",
       "      <td>0</td>\n",
       "      <td>0</td>\n",
       "      <td>1</td>\n",
       "      <td>0</td>\n",
       "      <td>0</td>\n",
       "      <td>0</td>\n",
       "      <td>0</td>\n",
       "      <td>...</td>\n",
       "      <td>19076</td>\n",
       "      <td>0</td>\n",
       "      <td>0</td>\n",
       "      <td>0</td>\n",
       "      <td>0</td>\n",
       "      <td>0</td>\n",
       "      <td>0</td>\n",
       "      <td>(1000 MT)</td>\n",
       "      <td>28699</td>\n",
       "      <td>1964</td>\n",
       "    </tr>\n",
       "    <tr>\n",
       "      <th>1</th>\n",
       "      <td>1965/1966</td>\n",
       "      <td>Production</td>\n",
       "      <td>Oilseed, Soybean</td>\n",
       "      <td>0</td>\n",
       "      <td>0</td>\n",
       "      <td>1</td>\n",
       "      <td>0</td>\n",
       "      <td>0</td>\n",
       "      <td>0</td>\n",
       "      <td>0</td>\n",
       "      <td>...</td>\n",
       "      <td>23014</td>\n",
       "      <td>0</td>\n",
       "      <td>0</td>\n",
       "      <td>0</td>\n",
       "      <td>0</td>\n",
       "      <td>0</td>\n",
       "      <td>0</td>\n",
       "      <td>(1000 MT)</td>\n",
       "      <td>31080</td>\n",
       "      <td>1965</td>\n",
       "    </tr>\n",
       "    <tr>\n",
       "      <th>2</th>\n",
       "      <td>1966/1967</td>\n",
       "      <td>Production</td>\n",
       "      <td>Oilseed, Soybean</td>\n",
       "      <td>0</td>\n",
       "      <td>0</td>\n",
       "      <td>1</td>\n",
       "      <td>0</td>\n",
       "      <td>0</td>\n",
       "      <td>0</td>\n",
       "      <td>0</td>\n",
       "      <td>...</td>\n",
       "      <td>25269</td>\n",
       "      <td>0</td>\n",
       "      <td>0</td>\n",
       "      <td>0</td>\n",
       "      <td>0</td>\n",
       "      <td>0</td>\n",
       "      <td>0</td>\n",
       "      <td>(1000 MT)</td>\n",
       "      <td>35732</td>\n",
       "      <td>1966</td>\n",
       "    </tr>\n",
       "    <tr>\n",
       "      <th>3</th>\n",
       "      <td>1967/1968</td>\n",
       "      <td>Production</td>\n",
       "      <td>Oilseed, Soybean</td>\n",
       "      <td>0</td>\n",
       "      <td>0</td>\n",
       "      <td>2</td>\n",
       "      <td>0</td>\n",
       "      <td>0</td>\n",
       "      <td>0</td>\n",
       "      <td>0</td>\n",
       "      <td>...</td>\n",
       "      <td>26575</td>\n",
       "      <td>0</td>\n",
       "      <td>0</td>\n",
       "      <td>0</td>\n",
       "      <td>0</td>\n",
       "      <td>0</td>\n",
       "      <td>2</td>\n",
       "      <td>(1000 MT)</td>\n",
       "      <td>37098</td>\n",
       "      <td>1967</td>\n",
       "    </tr>\n",
       "    <tr>\n",
       "      <th>4</th>\n",
       "      <td>1968/1969</td>\n",
       "      <td>Production</td>\n",
       "      <td>Oilseed, Soybean</td>\n",
       "      <td>0</td>\n",
       "      <td>0</td>\n",
       "      <td>2</td>\n",
       "      <td>0</td>\n",
       "      <td>0</td>\n",
       "      <td>0</td>\n",
       "      <td>0</td>\n",
       "      <td>...</td>\n",
       "      <td>30127</td>\n",
       "      <td>0</td>\n",
       "      <td>0</td>\n",
       "      <td>0</td>\n",
       "      <td>0</td>\n",
       "      <td>0</td>\n",
       "      <td>8</td>\n",
       "      <td>(1000 MT)</td>\n",
       "      <td>40611</td>\n",
       "      <td>1968</td>\n",
       "    </tr>\n",
       "  </tbody>\n",
       "</table>\n",
       "<p>5 rows × 101 columns</p>\n",
       "</div>"
      ],
      "text/plain": [
       "        Year   Attribute         Commodity  Algeria  Argentina  Australia  \\\n",
       "0  1964/1965  Production  Oilseed, Soybean        0          0          1   \n",
       "1  1965/1966  Production  Oilseed, Soybean        0          0          1   \n",
       "2  1966/1967  Production  Oilseed, Soybean        0          0          1   \n",
       "3  1967/1968  Production  Oilseed, Soybean        0          0          2   \n",
       "4  1968/1969  Production  Oilseed, Soybean        0          0          2   \n",
       "\n",
       "   Austria  Bangladesh  Barbados  Belarus  ...  United States  Uruguay  \\\n",
       "0        0           0         0        0  ...          19076        0   \n",
       "1        0           0         0        0  ...          23014        0   \n",
       "2        0           0         0        0  ...          25269        0   \n",
       "3        0           0         0        0  ...          26575        0   \n",
       "4        0           0         0        0  ...          30127        0   \n",
       "\n",
       "   Uzbekistan  Venezuela  Vietnam  Zambia  Zimbabwe  Unit Description  \\\n",
       "0           0          0        0       0         0         (1000 MT)   \n",
       "1           0          0        0       0         0         (1000 MT)   \n",
       "2           0          0        0       0         0         (1000 MT)   \n",
       "3           0          0        0       0         2         (1000 MT)   \n",
       "4           0          0        0       0         8         (1000 MT)   \n",
       "\n",
       "   Total_Production  Crop_year  \n",
       "0             28699       1964  \n",
       "1             31080       1965  \n",
       "2             35732       1966  \n",
       "3             37098       1967  \n",
       "4             40611       1968  \n",
       "\n",
       "[5 rows x 101 columns]"
      ]
     },
     "execution_count": 5,
     "metadata": {},
     "output_type": "execute_result"
    }
   ],
   "source": [
    "data.head()"
   ]
  },
  {
   "cell_type": "markdown",
   "id": "84219470",
   "metadata": {},
   "source": [
    "## Historical Data of Total Production Worldwide"
   ]
  },
  {
   "cell_type": "markdown",
   "id": "eb4956b8",
   "metadata": {},
   "source": [
    "### Selecting top5 Producers countries"
   ]
  },
  {
   "cell_type": "code",
   "execution_count": 6,
   "id": "877534d1",
   "metadata": {},
   "outputs": [],
   "source": [
    "year = \"2020/2021\"\n",
    "last_year = data[data[\"Year\"] == year]\n",
    "last_year = last_year.drop(columns = ['Attribute', 'Commodity','Unit Description', 'Total_Production'] )\n",
    "last_year = last_year.set_index('Year')\n",
    "last_year = (last_year.T)\n",
    "last_year = last_year.reset_index()\n",
    "last_year.columns = [\"Country\", \"Production\"]\n",
    "top5 = last_year.sort_values(by = \"Production\", ascending = False).head(5)"
   ]
  },
  {
   "cell_type": "code",
   "execution_count": 7,
   "id": "de44611b",
   "metadata": {},
   "outputs": [
    {
     "data": {
      "text/html": [
       "<div>\n",
       "<style scoped>\n",
       "    .dataframe tbody tr th:only-of-type {\n",
       "        vertical-align: middle;\n",
       "    }\n",
       "\n",
       "    .dataframe tbody tr th {\n",
       "        vertical-align: top;\n",
       "    }\n",
       "\n",
       "    .dataframe thead th {\n",
       "        text-align: right;\n",
       "    }\n",
       "</style>\n",
       "<table border=\"1\" class=\"dataframe\">\n",
       "  <thead>\n",
       "    <tr style=\"text-align: right;\">\n",
       "      <th></th>\n",
       "      <th>Country</th>\n",
       "      <th>Production</th>\n",
       "    </tr>\n",
       "  </thead>\n",
       "  <tbody>\n",
       "    <tr>\n",
       "      <th>10</th>\n",
       "      <td>Brazil</td>\n",
       "      <td>138000</td>\n",
       "    </tr>\n",
       "    <tr>\n",
       "      <th>88</th>\n",
       "      <td>United States</td>\n",
       "      <td>114749</td>\n",
       "    </tr>\n",
       "    <tr>\n",
       "      <th>1</th>\n",
       "      <td>Argentina</td>\n",
       "      <td>46200</td>\n",
       "    </tr>\n",
       "    <tr>\n",
       "      <th>14</th>\n",
       "      <td>China</td>\n",
       "      <td>19602</td>\n",
       "    </tr>\n",
       "    <tr>\n",
       "      <th>40</th>\n",
       "      <td>India</td>\n",
       "      <td>10450</td>\n",
       "    </tr>\n",
       "  </tbody>\n",
       "</table>\n",
       "</div>"
      ],
      "text/plain": [
       "          Country  Production\n",
       "10         Brazil      138000\n",
       "88  United States      114749\n",
       "1       Argentina       46200\n",
       "14          China       19602\n",
       "40          India       10450"
      ]
     },
     "execution_count": 7,
     "metadata": {},
     "output_type": "execute_result"
    }
   ],
   "source": [
    "top5"
   ]
  },
  {
   "cell_type": "code",
   "execution_count": 8,
   "id": "7c9eb460",
   "metadata": {},
   "outputs": [
    {
     "data": {
      "image/png": "[encoded data removed]",
      "text/plain": [
       "<Figure size 1080x720 with 3 Axes>"
      ]
     },
     "metadata": {
      "needs_background": "light"
     },
     "output_type": "display_data"
    }
   ],
   "source": [
    "usa_prod = data['United States']\n",
    "br_prod = data['Brazil']\n",
    "total_prod = data['Total_Production']\n",
    "years_x = data[\"Crop_year\"]\n",
    "\n",
    "# Start a figure\n",
    "fig = plt.figure(figsize=(15,10))\n",
    "\n",
    "# Create subplots (subplot( linhas, colunas, figura a ser plotada))\n",
    "# ax1 = fig.add_subplot(2,1,1)\n",
    "# ax2 = fig.add_subplot(2,2,3)\n",
    "# ax3 = fig.add_subplot(2,2,4) \n",
    "\n",
    "# First subplot\n",
    "plt.subplot(2,1,1) \n",
    "plt.plot(years_x, total_prod, label=\"total\", c='black')\n",
    "plt.title(\"Total Production\")\n",
    "plt.ylabel('Production (kMT)')\n",
    "\n",
    "# Second subplot\n",
    "plt.subplot(2,2,3)\n",
    "plt.bar(\"Country\", \"Production\", data = top5)\n",
    "plt.title('Top 5 Soybean Producers of Crop 2020/21')\n",
    "\n",
    "# Third subplot\n",
    "plt.subplot(2,2,4)\n",
    "plt.plot(years_x, usa_prod, label=\"USA\")\n",
    "plt.plot(years_x, br_prod, label = \"BR\")\n",
    "plt.title('USA vs. BR Production History')\n",
    "plt.ylim(0,150000)\n",
    "plt.legend()\n",
    "\n",
    "# Global figure methods\n",
    "plt.suptitle('Soybean Production (kmt)')\n",
    "plt.show()\n"
   ]
  },
  {
   "cell_type": "code",
   "execution_count": 9,
   "id": "848ecb9a",
   "metadata": {},
   "outputs": [
    {
     "data": {
      "image/png": "[encoded data removed]",
      "text/plain": [
       "<Figure size 720x360 with 1 Axes>"
      ]
     },
     "metadata": {
      "needs_background": "light"
     },
     "output_type": "display_data"
    }
   ],
   "source": [
    "x = data['Crop_year']\n",
    "y = data['Total_Production']\n",
    "\n",
    "plt.figure(figsize=(10,5))\n",
    "plt.stem(x, y)\n",
    "plt.xlabel(\"Crop Year\")\n",
    "plt.ylabel('Production (kMT)')\n",
    "plt.xticks(range(1964,2022,5))\n",
    "plt.title(\"Worldwide Production of Soybeans\")\n",
    "plt.show()"
   ]
  },
  {
   "cell_type": "code",
   "execution_count": 10,
   "id": "193a7015",
   "metadata": {},
   "outputs": [
    {
     "data": {
      "image/png": "[encoded data removed]",
      "text/plain": [
       "<Figure size 1080x360 with 1 Axes>"
      ]
     },
     "metadata": {
      "needs_background": "light"
     },
     "output_type": "display_data"
    }
   ],
   "source": [
    "# Grafico da producao mundial total\n",
    "plt.figure(figsize=(15,5))\n",
    "plt.bar(\"Crop_year\", \"Total_Production\", data = data)\n",
    "plt.xticks(range(1964,2022,5))\n",
    "plt.xlabel(\"Crop Year\")\n",
    "plt.show()"
   ]
  },
  {
   "cell_type": "markdown",
   "id": "195d3c0b",
   "metadata": {},
   "source": [
    "### Como posso fazer alguns stats aqui?\n",
    "Adicionar grafico iterativo para saber o volume quando passar o mouse no grafico\n",
    "\n",
    "\n",
    "Taxa de crescimento da producao?"
   ]
  },
  {
   "cell_type": "code",
   "execution_count": 11,
   "id": "974b82a5",
   "metadata": {},
   "outputs": [],
   "source": [
    "# Tentando fazer um grafico iterativo com o historico da Producao"
   ]
  },
  {
   "cell_type": "code",
   "execution_count": 12,
   "id": "4cf83dea",
   "metadata": {},
   "outputs": [],
   "source": [
    "# import plotly.express as px\n",
    "# data_prod = px.data()\n",
    "# fig = px.bar(data_prod, x='Crop_year', y='Total_Production')\n",
    "# fig.show()"
   ]
  },
  {
   "cell_type": "code",
   "execution_count": 13,
   "id": "e15176fc",
   "metadata": {},
   "outputs": [],
   "source": [
    "## Last Crop Available"
   ]
  },
  {
   "cell_type": "code",
   "execution_count": 14,
   "id": "b8fcabee",
   "metadata": {},
   "outputs": [],
   "source": [
    "# Tentando fazer um grafico de PIE com o top 5 producers"
   ]
  },
  {
   "cell_type": "code",
   "execution_count": 15,
   "id": "f0083c38",
   "metadata": {},
   "outputs": [],
   "source": [
    "# import plotly.express as px\n",
    "# df = px.data.gapminder().query(\"Country\").query(\"Production\")\n",
    "# df.loc[df['pop'] < 2.e6, 'country'] = 'Other countries' # Represent only large countries\n",
    "# fig = px.pie(df, values='pop', names='country', title='Population of European continent')\n",
    "# fig.show()"
   ]
  },
  {
   "cell_type": "markdown",
   "id": "f1147daa",
   "metadata": {},
   "source": [
    "## Prices for Soybeans"
   ]
  },
  {
   "cell_type": "code",
   "execution_count": 16,
   "id": "f9a0cde7",
   "metadata": {},
   "outputs": [],
   "source": [
    "# Variables of soybeans and soy sub-products\n",
    "soyMeal = yf.Ticker('ZM=F')\n",
    "soyOil = yf.Ticker('ZL=F')\n",
    "soybean = yf.Ticker('ZS=F')\n",
    "\n",
    "soyMeal = soyMeal.history(period=\"max\")\n",
    "soyOil = soyOil.history(period=\"max\")\n",
    "soybean = soybean.history(period=\"max\")\n",
    "\n",
    "# Lists I use for manipulating the dataframe for each commodity\n",
    "commodities = [soyMeal, soyOil, soybean]\n",
    "commodityName = ['soyMeal', 'soyOil', 'soybean']\n",
    "\n"
   ]
  },
  {
   "cell_type": "code",
   "execution_count": 17,
   "id": "8051c631",
   "metadata": {},
   "outputs": [],
   "source": [
    "# Drop all columns except date and close price, rename close price to name of the commodity\n",
    "col2drop = ['Open', 'High', 'Low', 'Volume', 'Dividends', 'Stock Splits']\n",
    "count = 0\n",
    "\n",
    "for i in commodities:\n",
    "    i.drop(columns = col2drop, axis = 0, inplace = True)\n",
    "    i.columns = [commodityName[count]]\n",
    "    count += 1"
   ]
  },
  {
   "cell_type": "code",
   "execution_count": 18,
   "id": "478570ae",
   "metadata": {},
   "outputs": [
    {
     "data": {
      "text/html": [
       "<div>\n",
       "<style scoped>\n",
       "    .dataframe tbody tr th:only-of-type {\n",
       "        vertical-align: middle;\n",
       "    }\n",
       "\n",
       "    .dataframe tbody tr th {\n",
       "        vertical-align: top;\n",
       "    }\n",
       "\n",
       "    .dataframe thead th {\n",
       "        text-align: right;\n",
       "    }\n",
       "</style>\n",
       "<table border=\"1\" class=\"dataframe\">\n",
       "  <thead>\n",
       "    <tr style=\"text-align: right;\">\n",
       "      <th></th>\n",
       "      <th>soyMeal</th>\n",
       "      <th>soyOil</th>\n",
       "      <th>soybean</th>\n",
       "    </tr>\n",
       "    <tr>\n",
       "      <th>Date</th>\n",
       "      <th></th>\n",
       "      <th></th>\n",
       "      <th></th>\n",
       "    </tr>\n",
       "  </thead>\n",
       "  <tbody>\n",
       "    <tr>\n",
       "      <th>2000-09-20</th>\n",
       "      <td>167.800003</td>\n",
       "      <td>15.270000</td>\n",
       "      <td>483.25</td>\n",
       "    </tr>\n",
       "    <tr>\n",
       "      <th>2000-09-21</th>\n",
       "      <td>170.800003</td>\n",
       "      <td>15.360000</td>\n",
       "      <td>486.50</td>\n",
       "    </tr>\n",
       "    <tr>\n",
       "      <th>2000-10-03</th>\n",
       "      <td>172.699997</td>\n",
       "      <td>15.300000</td>\n",
       "      <td>488.50</td>\n",
       "    </tr>\n",
       "    <tr>\n",
       "      <th>2000-10-09</th>\n",
       "      <td>167.399994</td>\n",
       "      <td>15.120000</td>\n",
       "      <td>484.50</td>\n",
       "    </tr>\n",
       "    <tr>\n",
       "      <th>2000-10-10</th>\n",
       "      <td>168.800003</td>\n",
       "      <td>15.180000</td>\n",
       "      <td>483.00</td>\n",
       "    </tr>\n",
       "    <tr>\n",
       "      <th>...</th>\n",
       "      <td>...</td>\n",
       "      <td>...</td>\n",
       "      <td>...</td>\n",
       "    </tr>\n",
       "    <tr>\n",
       "      <th>2022-03-14</th>\n",
       "      <td>521.900024</td>\n",
       "      <td>78.730003</td>\n",
       "      <td>1687.25</td>\n",
       "    </tr>\n",
       "    <tr>\n",
       "      <th>2022-03-15</th>\n",
       "      <td>484.000000</td>\n",
       "      <td>73.680000</td>\n",
       "      <td>1658.75</td>\n",
       "    </tr>\n",
       "    <tr>\n",
       "      <th>2022-03-16</th>\n",
       "      <td>478.000000</td>\n",
       "      <td>73.550003</td>\n",
       "      <td>1649.25</td>\n",
       "    </tr>\n",
       "    <tr>\n",
       "      <th>2022-03-17</th>\n",
       "      <td>474.100006</td>\n",
       "      <td>74.629997</td>\n",
       "      <td>1668.50</td>\n",
       "    </tr>\n",
       "    <tr>\n",
       "      <th>2022-03-18</th>\n",
       "      <td>475.000000</td>\n",
       "      <td>72.379997</td>\n",
       "      <td>1669.25</td>\n",
       "    </tr>\n",
       "  </tbody>\n",
       "</table>\n",
       "<p>5284 rows × 3 columns</p>\n",
       "</div>"
      ],
      "text/plain": [
       "               soyMeal     soyOil  soybean\n",
       "Date                                      \n",
       "2000-09-20  167.800003  15.270000   483.25\n",
       "2000-09-21  170.800003  15.360000   486.50\n",
       "2000-10-03  172.699997  15.300000   488.50\n",
       "2000-10-09  167.399994  15.120000   484.50\n",
       "2000-10-10  168.800003  15.180000   483.00\n",
       "...                ...        ...      ...\n",
       "2022-03-14  521.900024  78.730003  1687.25\n",
       "2022-03-15  484.000000  73.680000  1658.75\n",
       "2022-03-16  478.000000  73.550003  1649.25\n",
       "2022-03-17  474.100006  74.629997  1668.50\n",
       "2022-03-18  475.000000  72.379997  1669.25\n",
       "\n",
       "[5284 rows x 3 columns]"
      ]
     },
     "execution_count": 18,
     "metadata": {},
     "output_type": "execute_result"
    }
   ],
   "source": [
    "# Join all data frames into one\n",
    "df = pd.concat(commodities, join='outer', axis=1)\n",
    "\n",
    "# Some prices are missing for things like holidays, use forward fill to make the missing values the same as the previous\n",
    "df.ffill()\n",
    "df.dropna()"
   ]
  },
  {
   "cell_type": "code",
   "execution_count": 19,
   "id": "929a20bb",
   "metadata": {},
   "outputs": [
    {
     "data": {
      "image/png": "[encoded data removed]",
      "text/plain": [
       "<Figure size 1080x360 with 2 Axes>"
      ]
     },
     "metadata": {
      "needs_background": "light"
     },
     "output_type": "display_data"
    }
   ],
   "source": [
    "fig = plt.figure(figsize=(15,5))\n",
    "# First subplot\n",
    "plt.subplot(1,2,1) \n",
    "plt.plot(years_x, total_prod, label=\"total\", c='black')\n",
    "plt.title(\"Total Production\")\n",
    "plt.ylabel('Production (kMT)')\n",
    "\n",
    "# Second subplot\n",
    "plt.subplot(1,2,2)\n",
    "plt.plot(df.reset_index()[\"Date\"], df['soybean'], label=\"soybean\", c='green')\n",
    "plt.title(\"Soybean Price\")\n",
    "plt.ylabel('Soybean')\n",
    "plt.show()"
   ]
  },
  {
   "cell_type": "code",
   "execution_count": null,
   "id": "11d66697",
   "metadata": {},
   "outputs": [],
   "source": []
  },
  {
   "cell_type": "markdown",
   "id": "705cbffc",
   "metadata": {},
   "source": [
    "# Market overview"
   ]
  },
  {
   "cell_type": "markdown",
   "id": "0899e2eb",
   "metadata": {},
   "source": [
    "## Market Overview USA"
   ]
  },
  {
   "cell_type": "markdown",
   "id": "fc9687e1",
   "metadata": {},
   "source": [
    "U.S. Soy Production\n",
    "The major U.S. oilseed crops are soybeans, cottonseed, sunflower seed, canola, rapeseed, and peanuts. Soybeans are the dominant oilseed in the United States, accounting for about 90 percent of U.S. oilseed production. Most U.S. soybeans are planted in May and early June and harvested in late September and October (see Usual Planting and Harvesting Dates for U.S. Field Crops for soybean dates by region).\n",
    "\n",
    "\n",
    "Large-scale production of soybeans did not begin until the 20th century in the United States, but since then area planted to soybeans has expanded rapidly. Increased planting flexibility, yield improvements from narrow-rowed seeding practices, a greater number of 50-50 corn-soybean rotations, and low production costs (partly due to widespread adoption of herbicide-tolerant varieties) favored expansion of soybean acreage. More than 90 million acres of soybeans were planted in 2017, and in 2018 acres planted to soybeans in the United States exceeded corn acres for the first time since 1983. Soybean acres have decreased recently to 76.1 million in 2019.\n",
    "\n",
    "Source:\n",
    "\n",
    "https://www.ers.usda.gov/topics/crops/soybeans-oil-crops/oil-crops-sector-at-a-glance/\n",
    "\n"
   ]
  },
  {
   "cell_type": "markdown",
   "id": "3930eb33",
   "metadata": {},
   "source": [
    "US soybeans\n",
    "For the US soybeans, 2021-22 productions are held steady at 4.435 billion bushels (120.8 million mt), steady on February estimates and 219 million bushels lower year on year.\n",
    "\n",
    "Soybean harvested area for the US is estimated at 86.3 million acres, steady on the previous report.\n",
    "\n",
    "The US soybean yield forecast for the 2021-22 marketing year (September-August) has been estimated at 51.4 bu/acre, unchanged on previous estimate in January.\n",
    "\n",
    "The USDA sees the US soybean crush for the 2021-22 marketing year at 2.215 billion bushels (60.3 million mt), up 25 million bushels on previous estimates.\n",
    "\n",
    "Soybean crush is forecast higher from last month on favorable crush margins and improving prospects for soybean meal exports, the USDA said.\n",
    "\n",
    "Soybean exports estimates have been raised to 2.090 billion bushels (56.88 million mt) from the previous estimate of 2.050 billion bushels (55.8 million mt), the report said. However, 2021-22 ending stocks are projected at 285 million bushels (7.75 million mt), down 40 million bushels on previous estimate, the USDA said.\n",
    "\n",
    "Soybean exports are raised on lower production and reduced exports for South America, the report said.\n",
    "\n",
    "\n",
    "https://www.spglobal.com/commodity-insights/en/market-insights/latest-news/agriculture/030922-south-american-soybean-supply-projections-for-2021-22-cut-yet-again-by-usda\n",
    "\n",
    "Dataset US Porduction:\n",
    "\n",
    "https://www.statista.com/statistics/192058/production-of-soybeans-for-beans-in-the-us-since-2000/\n",
    "\n"
   ]
  },
  {
   "cell_type": "markdown",
   "id": "a05f62de",
   "metadata": {},
   "source": [
    "US Crop seasonality:\n",
    "\n",
    "planting period: May and early June\n",
    "\n",
    "harvest period: late September and October\n"
   ]
  },
  {
   "cell_type": "markdown",
   "id": "800283db",
   "metadata": {},
   "source": [
    "## Market overview Brazil"
   ]
  },
  {
   "cell_type": "markdown",
   "id": "7f84114f",
   "metadata": {},
   "source": [
    "Safra Velha x Safra Nova\n",
    "Os meses de negociação padronizados para os futuros de Milho, Soja e Trigo refletem os padrões sazonais para o plantio,\n",
    "colheita e comercialização da safra correspondente. Estes meses de negociação também são indicativos da fonte de \n",
    "oferta em qualquer momento em particular.\n",
    "\n",
    "Durante os meses de plantio, primavera para o milho e a soja e o outono para o trigo de inverno, \n",
    "a fonte de grãos que está disponível para venda ou compra pelos usuários finais é das safras que foram colhidas \n",
    "durante a temporada de colheita anterior - a safra velha. \n",
    "\n",
    "Por outro lado, durante os meses de colheita, tipicamente julho para o trigo de inverno e novembro e dezembro\n",
    "para o milho e a soja, a safra recém-colhida chega ao mercado e a oferta é maior, daí, a safra nova.\n",
    "\n",
    "Cada commodity grão tem um mês de vencimento de futuros de safra nova e todos os outros são meses da safra velha.\n",
    "\n",
    "Agora, você pode pensar intuitivamente que a negociação de futuros de Grãos mais distante no tempo,\n",
    "provavelmente, tenha preço mais elevado que na negociação de Grãos do momento, ou em relação aos meses de vencimento\n",
    "de futuros mais próximos por causa de fatores como custos de transporte, armazenamento etc., que poderiam elevar\n",
    "os preços naqueles meses diferidos. No entanto, quando você observar mais de perto os mercados de grãos durante \n",
    "os meses de safra velha e de safra nova, você entenderá por que isso não ocorre necessariamente sempre.\n",
    "\n",
    "Durante os meses de safra velha, quando a oferta é geralmente inferior, os grãos tendem a ser mais caros do que\n",
    "nos meses mais distantes de negociação da safra nova.\n",
    "\n",
    "Quando uma safra nova é colhida, novamente há maior nível de oferta. É por isso que muitos dos mercados de grãos \n",
    "tendem a refletir os seus preços sazonais mais baixos durante o mês de negociação de safra nova.\n",
    "\n",
    "Os mercados de trigo têm uma tendência a queda entre a primavera e a colheita de julho, depois começam a ter \n",
    "alta a partir das reduções de colheita no outono e inverno.  \n",
    "\n",
    "Com a soja, a colheita começa em setembro e continua de outubro a meados de novembro. A soja tende a seguir \n",
    "um padrão onde os preços começam a cair no período de julho a agosto, seguindo com o \"intervalo de fevereiro”, \n",
    "antes de atingir suas altas sazonais no verão. O farelo e o óleo de soja têm as mesmas tendências sazonais que a soja.\n",
    "\n",
    "Com o milho, a tendência sazonal mais pronunciada é a dos preços perto de seu nível mais elevado em torno de\n",
    "julho por causa da incerteza com a produção da safra nova, depois tendem a cair a partir da metade do verão até \n",
    "a época de colheita.  \n",
    "\n",
    "Fonte:\n",
    "    \n",
    "https://www.cmegroup.com/pt/education/learn-about-trading/introduction-to-grains-and-oilseeds/understanding-seasonality-in-grains.html\n"
   ]
  },
  {
   "cell_type": "markdown",
   "id": "ab1bf39a",
   "metadata": {},
   "source": [
    "BR Crop seasonality\n",
    "\n",
    "Norte >\n",
    "    planting period : October to June\n",
    "    harvest period: January to October\n",
    "\n",
    "Nordeste >\n",
    "    planting period : October to January\n",
    "    harvest period: February to July\n",
    "        \n",
    "Centro-oeste >\n",
    "    planting period : September to December\n",
    "    harvest period: January to April\n",
    "        \n",
    "Sudeste >\n",
    "    planting period : September to December\n",
    "    harvest period: January to May\n",
    "        \n",
    "Sul >\n",
    "    planting period : September to December\n",
    "    harvest period: January to May\n",
    "    "
   ]
  },
  {
   "cell_type": "code",
   "execution_count": null,
   "id": "917896f7",
   "metadata": {},
   "outputs": [],
   "source": []
  },
  {
   "cell_type": "markdown",
   "id": "5a88268f",
   "metadata": {},
   "source": [
    "Anotacoes do prof\n",
    "\n",
    "1. Stats model para tendencia e sazonalidade: preco e producao\n",
    "Facebook profet > vamos analisar as tendencias e sazonalidades\n",
    "\n",
    "> Scaling da producao e do preco e o plot linear dos 2\n",
    "\n",
    "2. RNN : para cotacao de precos diarios\n",
    "        para cotacoes mensais\n",
    "\n",
    "3. Producao: fatores que afetam a producao, precisamos de um dataset para fazer a estimativa dele (falta variaveis exogenas)\n",
    "\n",
    "4. Colocar a cotacao do dolar para os produtores brasileiros?\n",
    "\n",
    "Grafico de barras ou box plot no valor do tempo, \n",
    "\n",
    "Tarefas:\n",
    "\n",
    "5 dia temos que ter o MVP (Minimum Value Product) -- Prox quarta\n",
    "- Vamos ter a API que depende de um modelo\n",
    "- Frontend: fazer um desenho de como vai ficar a cara do ambiente\n",
    "- input do usuario:\n",
    "    entrar com o dia para saber o preco\n",
    "    contrato de futuros\n",
    "    Paises produtores de soja\n",
    "    Produtor entra com o volume de soja deles e verificar o Lucro no futuro?\n",
    "    \n",
    "- Inputs para o produtor:\n",
    "    a. Comportamento sazonal padrao do Brasil > qual o nivel de concorrencia no mercado\n",
    "    b. Dataset dos contratos de futuros????\n",
    "\n",
    "- Visao de negocio:\n",
    "    a. Como cobramos o uso das info que estamos disponibilizando\n",
    "    \n",
    "\n"
   ]
  },
  {
   "cell_type": "code",
   "execution_count": 20,
   "id": "a4aeae31",
   "metadata": {},
   "outputs": [],
   "source": [
    "# Stats Model"
   ]
  },
  {
   "cell_type": "code",
   "execution_count": 21,
   "id": "6ed1673f",
   "metadata": {},
   "outputs": [],
   "source": [
    "data_prod2001 = data[data[\"Crop_year\"]>=2001]"
   ]
  },
  {
   "cell_type": "code",
   "execution_count": 22,
   "id": "d40a759a",
   "metadata": {},
   "outputs": [],
   "source": [
    "from sklearn.preprocessing import MinMaxScaler"
   ]
  },
  {
   "cell_type": "code",
   "execution_count": 23,
   "id": "c79321ac",
   "metadata": {},
   "outputs": [],
   "source": [
    "scaler = MinMaxScaler()\n",
    "soy_price = scaler.fit_transform(df[['soybean']])\n",
    "\n",
    "scaler = MinMaxScaler()\n",
    "soy_prod = scaler.fit_transform(data_prod2001[['Total_Production']])\n",
    "\n"
   ]
  },
  {
   "cell_type": "code",
   "execution_count": 24,
   "id": "9f7c9bd3",
   "metadata": {},
   "outputs": [
    {
     "data": {
      "text/plain": [
       "(5542, 1)"
      ]
     },
     "execution_count": 24,
     "metadata": {},
     "output_type": "execute_result"
    }
   ],
   "source": [
    "soy_price"
   ]
  },
  {
   "cell_type": "code",
   "execution_count": 25,
   "id": "73ce61ff",
   "metadata": {},
   "outputs": [
    {
     "data": {
      "text/plain": [
       "(21, 1)"
      ]
     },
     "execution_count": 25,
     "metadata": {},
     "output_type": "execute_result"
    }
   ],
   "source": [
    "soy_prod.shape"
   ]
  },
  {
   "cell_type": "code",
   "execution_count": 27,
   "id": "1780b534",
   "metadata": {},
   "outputs": [
    {
     "data": {
      "text/plain": [
       "<matplotlib.collections.PathCollection at 0x1492c1070>"
      ]
     },
     "execution_count": 27,
     "metadata": {},
     "output_type": "execute_result"
    },
    {
     "data": {
      "image/png": "[encoded data removed]",
      "text/plain": [
       "<Figure size 432x288 with 1 Axes>"
      ]
     },
     "metadata": {
      "needs_background": "light"
     },
     "output_type": "display_data"
    }
   ],
   "source": [
    "plt.scatter(x= soy_price[0], y = soy_prod[0])"
   ]
  },
  {
   "cell_type": "code",
   "execution_count": null,
   "id": "835f4464",
   "metadata": {},
   "outputs": [],
   "source": []
  }
 ],
 "metadata": {
  "kernelspec": {
   "display_name": "Python 3 (ipykernel)",
   "language": "python",
   "name": "python3"
  },
  "language_info": {
   "codemirror_mode": {
    "name": "ipython",
    "version": 3
   },
   "file_extension": ".py",
   "mimetype": "text/x-python",
   "name": "python",
   "nbconvert_exporter": "python",
   "pygments_lexer": "ipython3",
   "version": "3.8.12"
  },
  "toc": {
   "base_numbering": 1,
   "nav_menu": {},
   "number_sections": true,
   "sideBar": true,
   "skip_h1_title": false,
   "title_cell": "Table of Contents",
   "title_sidebar": "Contents",
   "toc_cell": false,
   "toc_position": {},
   "toc_section_display": true,
   "toc_window_display": false
  }
 },
 "nbformat": 4,
 "nbformat_minor": 5
}
