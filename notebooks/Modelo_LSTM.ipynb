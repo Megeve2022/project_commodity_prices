{
 "cells": [
  {
   "cell_type": "code",
   "execution_count": 1,
   "id": "5a56a4d1",
   "metadata": {},
   "outputs": [],
   "source": [
    "import matplotlib.pyplot as plt\n",
    "import mplfinance as mpf\n",
    "import yfinance as yf\n",
    "import pandas as pd\n",
    "from random import randint\n",
    "import numpy as np"
   ]
  },
  {
   "cell_type": "code",
   "execution_count": 2,
   "id": "9d4fb635",
   "metadata": {},
   "outputs": [],
   "source": [
    "# Using yfinance to retrieve data\n",
    "# Soybean_ticker = 'ZS=F'\n",
    "# Soybean_futures_prices = 'zsf'\n",
    "\n",
    "zsf = yf.Ticker(\"ZS=F\")\n",
    "\n",
    "# Get stock info\n",
    "zsf.info\n",
    "\n",
    "# Get historical market data\n",
    "hist_soybean_df = zsf.history(start = '2000-09-15', end='2022-03-22')\n",
    "hist_soybean_df = hist_soybean_df.drop(columns=['Dividends','Stock Splits'])"
   ]
  },
  {
   "cell_type": "code",
   "execution_count": 3,
   "id": "221dfaaf",
   "metadata": {
    "scrolled": true
   },
   "outputs": [
    {
     "data": {
      "text/html": [
       "<div>\n",
       "<style scoped>\n",
       "    .dataframe tbody tr th:only-of-type {\n",
       "        vertical-align: middle;\n",
       "    }\n",
       "\n",
       "    .dataframe tbody tr th {\n",
       "        vertical-align: top;\n",
       "    }\n",
       "\n",
       "    .dataframe thead th {\n",
       "        text-align: right;\n",
       "    }\n",
       "</style>\n",
       "<table border=\"1\" class=\"dataframe\">\n",
       "  <thead>\n",
       "    <tr style=\"text-align: right;\">\n",
       "      <th></th>\n",
       "      <th>Open</th>\n",
       "      <th>High</th>\n",
       "      <th>Low</th>\n",
       "      <th>Close</th>\n",
       "      <th>Volume</th>\n",
       "    </tr>\n",
       "    <tr>\n",
       "      <th>Date</th>\n",
       "      <th></th>\n",
       "      <th></th>\n",
       "      <th></th>\n",
       "      <th></th>\n",
       "      <th></th>\n",
       "    </tr>\n",
       "  </thead>\n",
       "  <tbody>\n",
       "    <tr>\n",
       "      <th>2000-09-15</th>\n",
       "      <td>491.00</td>\n",
       "      <td>493.75</td>\n",
       "      <td>490.00</td>\n",
       "      <td>493.75</td>\n",
       "      <td>445</td>\n",
       "    </tr>\n",
       "    <tr>\n",
       "      <th>2000-09-18</th>\n",
       "      <td>483.25</td>\n",
       "      <td>486.00</td>\n",
       "      <td>482.50</td>\n",
       "      <td>484.00</td>\n",
       "      <td>382</td>\n",
       "    </tr>\n",
       "    <tr>\n",
       "      <th>2000-09-19</th>\n",
       "      <td>485.00</td>\n",
       "      <td>485.50</td>\n",
       "      <td>483.50</td>\n",
       "      <td>484.25</td>\n",
       "      <td>325</td>\n",
       "    </tr>\n",
       "    <tr>\n",
       "      <th>2000-09-20</th>\n",
       "      <td>483.50</td>\n",
       "      <td>484.25</td>\n",
       "      <td>483.25</td>\n",
       "      <td>483.25</td>\n",
       "      <td>321</td>\n",
       "    </tr>\n",
       "    <tr>\n",
       "      <th>2000-09-21</th>\n",
       "      <td>486.75</td>\n",
       "      <td>488.00</td>\n",
       "      <td>486.00</td>\n",
       "      <td>486.50</td>\n",
       "      <td>330</td>\n",
       "    </tr>\n",
       "    <tr>\n",
       "      <th>...</th>\n",
       "      <td>...</td>\n",
       "      <td>...</td>\n",
       "      <td>...</td>\n",
       "      <td>...</td>\n",
       "      <td>...</td>\n",
       "    </tr>\n",
       "    <tr>\n",
       "      <th>2022-03-15</th>\n",
       "      <td>1674.00</td>\n",
       "      <td>1674.00</td>\n",
       "      <td>1638.00</td>\n",
       "      <td>1658.75</td>\n",
       "      <td>70449</td>\n",
       "    </tr>\n",
       "    <tr>\n",
       "      <th>2022-03-16</th>\n",
       "      <td>1661.00</td>\n",
       "      <td>1681.25</td>\n",
       "      <td>1645.25</td>\n",
       "      <td>1649.25</td>\n",
       "      <td>65232</td>\n",
       "    </tr>\n",
       "    <tr>\n",
       "      <th>2022-03-17</th>\n",
       "      <td>1649.25</td>\n",
       "      <td>1677.50</td>\n",
       "      <td>1647.25</td>\n",
       "      <td>1668.50</td>\n",
       "      <td>74317</td>\n",
       "    </tr>\n",
       "    <tr>\n",
       "      <th>2022-03-18</th>\n",
       "      <td>1669.75</td>\n",
       "      <td>1689.00</td>\n",
       "      <td>1651.50</td>\n",
       "      <td>1668.00</td>\n",
       "      <td>67110</td>\n",
       "    </tr>\n",
       "    <tr>\n",
       "      <th>2022-03-21</th>\n",
       "      <td>1673.00</td>\n",
       "      <td>1710.00</td>\n",
       "      <td>1666.75</td>\n",
       "      <td>1691.00</td>\n",
       "      <td>82394</td>\n",
       "    </tr>\n",
       "  </tbody>\n",
       "</table>\n",
       "<p>5412 rows × 5 columns</p>\n",
       "</div>"
      ],
      "text/plain": [
       "               Open     High      Low    Close  Volume\n",
       "Date                                                  \n",
       "2000-09-15   491.00   493.75   490.00   493.75     445\n",
       "2000-09-18   483.25   486.00   482.50   484.00     382\n",
       "2000-09-19   485.00   485.50   483.50   484.25     325\n",
       "2000-09-20   483.50   484.25   483.25   483.25     321\n",
       "2000-09-21   486.75   488.00   486.00   486.50     330\n",
       "...             ...      ...      ...      ...     ...\n",
       "2022-03-15  1674.00  1674.00  1638.00  1658.75   70449\n",
       "2022-03-16  1661.00  1681.25  1645.25  1649.25   65232\n",
       "2022-03-17  1649.25  1677.50  1647.25  1668.50   74317\n",
       "2022-03-18  1669.75  1689.00  1651.50  1668.00   67110\n",
       "2022-03-21  1673.00  1710.00  1666.75  1691.00   82394\n",
       "\n",
       "[5412 rows x 5 columns]"
      ]
     },
     "execution_count": 3,
     "metadata": {},
     "output_type": "execute_result"
    }
   ],
   "source": [
    "hist_soybean_df"
   ]
  },
  {
   "cell_type": "code",
   "execution_count": 4,
   "id": "115a1dcf",
   "metadata": {},
   "outputs": [],
   "source": [
    "# Get historical market data of Soy Meal\n",
    "\n",
    "soyMeal = yf.Ticker('ZM=F')\n",
    "hist_soymeal_df = soyMeal.history(start = '2000-09-15', end='2022-03-22')\n",
    "hist_soymeal_df = hist_soymeal_df.drop(columns=['Dividends','Stock Splits'])"
   ]
  },
  {
   "cell_type": "code",
   "execution_count": 5,
   "id": "487c3337",
   "metadata": {},
   "outputs": [
    {
     "data": {
      "text/html": [
       "<div>\n",
       "<style scoped>\n",
       "    .dataframe tbody tr th:only-of-type {\n",
       "        vertical-align: middle;\n",
       "    }\n",
       "\n",
       "    .dataframe tbody tr th {\n",
       "        vertical-align: top;\n",
       "    }\n",
       "\n",
       "    .dataframe thead th {\n",
       "        text-align: right;\n",
       "    }\n",
       "</style>\n",
       "<table border=\"1\" class=\"dataframe\">\n",
       "  <thead>\n",
       "    <tr style=\"text-align: right;\">\n",
       "      <th></th>\n",
       "      <th>Open</th>\n",
       "      <th>High</th>\n",
       "      <th>Low</th>\n",
       "      <th>Close</th>\n",
       "      <th>Volume</th>\n",
       "    </tr>\n",
       "    <tr>\n",
       "      <th>Date</th>\n",
       "      <th></th>\n",
       "      <th></th>\n",
       "      <th></th>\n",
       "      <th></th>\n",
       "      <th></th>\n",
       "    </tr>\n",
       "  </thead>\n",
       "  <tbody>\n",
       "    <tr>\n",
       "      <th>2000-09-15</th>\n",
       "      <td>167.500000</td>\n",
       "      <td>167.500000</td>\n",
       "      <td>167.500000</td>\n",
       "      <td>167.500000</td>\n",
       "      <td>31</td>\n",
       "    </tr>\n",
       "    <tr>\n",
       "      <th>2000-09-18</th>\n",
       "      <td>167.000000</td>\n",
       "      <td>167.000000</td>\n",
       "      <td>166.899994</td>\n",
       "      <td>166.899994</td>\n",
       "      <td>31</td>\n",
       "    </tr>\n",
       "    <tr>\n",
       "      <th>2000-09-20</th>\n",
       "      <td>167.000000</td>\n",
       "      <td>167.000000</td>\n",
       "      <td>166.899994</td>\n",
       "      <td>167.800003</td>\n",
       "      <td>31</td>\n",
       "    </tr>\n",
       "    <tr>\n",
       "      <th>2000-09-21</th>\n",
       "      <td>167.000000</td>\n",
       "      <td>167.000000</td>\n",
       "      <td>166.899994</td>\n",
       "      <td>170.800003</td>\n",
       "      <td>5</td>\n",
       "    </tr>\n",
       "    <tr>\n",
       "      <th>2000-09-25</th>\n",
       "      <td>172.300003</td>\n",
       "      <td>173.500000</td>\n",
       "      <td>172.300003</td>\n",
       "      <td>173.500000</td>\n",
       "      <td>5</td>\n",
       "    </tr>\n",
       "    <tr>\n",
       "      <th>...</th>\n",
       "      <td>...</td>\n",
       "      <td>...</td>\n",
       "      <td>...</td>\n",
       "      <td>...</td>\n",
       "      <td>...</td>\n",
       "    </tr>\n",
       "    <tr>\n",
       "      <th>2022-03-15</th>\n",
       "      <td>485.100006</td>\n",
       "      <td>488.500000</td>\n",
       "      <td>475.600006</td>\n",
       "      <td>484.000000</td>\n",
       "      <td>32371</td>\n",
       "    </tr>\n",
       "    <tr>\n",
       "      <th>2022-03-16</th>\n",
       "      <td>483.299988</td>\n",
       "      <td>489.799988</td>\n",
       "      <td>476.100006</td>\n",
       "      <td>478.000000</td>\n",
       "      <td>38574</td>\n",
       "    </tr>\n",
       "    <tr>\n",
       "      <th>2022-03-17</th>\n",
       "      <td>478.500000</td>\n",
       "      <td>482.000000</td>\n",
       "      <td>471.500000</td>\n",
       "      <td>474.100006</td>\n",
       "      <td>35251</td>\n",
       "    </tr>\n",
       "    <tr>\n",
       "      <th>2022-03-18</th>\n",
       "      <td>474.200012</td>\n",
       "      <td>479.000000</td>\n",
       "      <td>472.000000</td>\n",
       "      <td>477.000000</td>\n",
       "      <td>26886</td>\n",
       "    </tr>\n",
       "    <tr>\n",
       "      <th>2022-03-21</th>\n",
       "      <td>477.100006</td>\n",
       "      <td>485.399994</td>\n",
       "      <td>475.799988</td>\n",
       "      <td>481.299988</td>\n",
       "      <td>27857</td>\n",
       "    </tr>\n",
       "  </tbody>\n",
       "</table>\n",
       "<p>5338 rows × 5 columns</p>\n",
       "</div>"
      ],
      "text/plain": [
       "                  Open        High         Low       Close  Volume\n",
       "Date                                                              \n",
       "2000-09-15  167.500000  167.500000  167.500000  167.500000      31\n",
       "2000-09-18  167.000000  167.000000  166.899994  166.899994      31\n",
       "2000-09-20  167.000000  167.000000  166.899994  167.800003      31\n",
       "2000-09-21  167.000000  167.000000  166.899994  170.800003       5\n",
       "2000-09-25  172.300003  173.500000  172.300003  173.500000       5\n",
       "...                ...         ...         ...         ...     ...\n",
       "2022-03-15  485.100006  488.500000  475.600006  484.000000   32371\n",
       "2022-03-16  483.299988  489.799988  476.100006  478.000000   38574\n",
       "2022-03-17  478.500000  482.000000  471.500000  474.100006   35251\n",
       "2022-03-18  474.200012  479.000000  472.000000  477.000000   26886\n",
       "2022-03-21  477.100006  485.399994  475.799988  481.299988   27857\n",
       "\n",
       "[5338 rows x 5 columns]"
      ]
     },
     "execution_count": 5,
     "metadata": {},
     "output_type": "execute_result"
    }
   ],
   "source": [
    "hist_soymeal_df"
   ]
  },
  {
   "cell_type": "code",
   "execution_count": 6,
   "id": "9f5d5b1a",
   "metadata": {},
   "outputs": [],
   "source": [
    "# Get historical market data of Soy Oil\n",
    "\n",
    "soyOil = yf.Ticker('ZL=F')\n",
    "hist_soyoil_df = soyOil.history(start = '2000-09-15', end='2022-03-22')\n",
    "hist_soyoil_df = hist_soyoil_df.drop(columns=['Dividends','Stock Splits'])"
   ]
  },
  {
   "cell_type": "code",
   "execution_count": 7,
   "id": "00e70696",
   "metadata": {},
   "outputs": [
    {
     "data": {
      "text/html": [
       "<div>\n",
       "<style scoped>\n",
       "    .dataframe tbody tr th:only-of-type {\n",
       "        vertical-align: middle;\n",
       "    }\n",
       "\n",
       "    .dataframe tbody tr th {\n",
       "        vertical-align: top;\n",
       "    }\n",
       "\n",
       "    .dataframe thead th {\n",
       "        text-align: right;\n",
       "    }\n",
       "</style>\n",
       "<table border=\"1\" class=\"dataframe\">\n",
       "  <thead>\n",
       "    <tr style=\"text-align: right;\">\n",
       "      <th></th>\n",
       "      <th>Open</th>\n",
       "      <th>High</th>\n",
       "      <th>Low</th>\n",
       "      <th>Close</th>\n",
       "      <th>Volume</th>\n",
       "    </tr>\n",
       "    <tr>\n",
       "      <th>Date</th>\n",
       "      <th></th>\n",
       "      <th></th>\n",
       "      <th></th>\n",
       "      <th></th>\n",
       "      <th></th>\n",
       "    </tr>\n",
       "  </thead>\n",
       "  <tbody>\n",
       "    <tr>\n",
       "      <th>2000-09-20</th>\n",
       "      <td>15.350000</td>\n",
       "      <td>15.350000</td>\n",
       "      <td>15.350000</td>\n",
       "      <td>15.270000</td>\n",
       "      <td>4</td>\n",
       "    </tr>\n",
       "    <tr>\n",
       "      <th>2000-09-21</th>\n",
       "      <td>15.350000</td>\n",
       "      <td>15.350000</td>\n",
       "      <td>15.350000</td>\n",
       "      <td>15.360000</td>\n",
       "      <td>1</td>\n",
       "    </tr>\n",
       "    <tr>\n",
       "      <th>2000-10-03</th>\n",
       "      <td>15.300000</td>\n",
       "      <td>15.300000</td>\n",
       "      <td>15.300000</td>\n",
       "      <td>15.300000</td>\n",
       "      <td>1</td>\n",
       "    </tr>\n",
       "    <tr>\n",
       "      <th>2000-10-04</th>\n",
       "      <td>15.300000</td>\n",
       "      <td>15.300000</td>\n",
       "      <td>15.300000</td>\n",
       "      <td>15.230000</td>\n",
       "      <td>1</td>\n",
       "    </tr>\n",
       "    <tr>\n",
       "      <th>2000-10-09</th>\n",
       "      <td>15.300000</td>\n",
       "      <td>15.300000</td>\n",
       "      <td>15.300000</td>\n",
       "      <td>15.120000</td>\n",
       "      <td>1</td>\n",
       "    </tr>\n",
       "    <tr>\n",
       "      <th>...</th>\n",
       "      <td>...</td>\n",
       "      <td>...</td>\n",
       "      <td>...</td>\n",
       "      <td>...</td>\n",
       "      <td>...</td>\n",
       "    </tr>\n",
       "    <tr>\n",
       "      <th>2022-03-15</th>\n",
       "      <td>74.400002</td>\n",
       "      <td>74.400002</td>\n",
       "      <td>72.290001</td>\n",
       "      <td>73.680000</td>\n",
       "      <td>36703</td>\n",
       "    </tr>\n",
       "    <tr>\n",
       "      <th>2022-03-16</th>\n",
       "      <td>73.790001</td>\n",
       "      <td>74.980003</td>\n",
       "      <td>73.190002</td>\n",
       "      <td>73.550003</td>\n",
       "      <td>40337</td>\n",
       "    </tr>\n",
       "    <tr>\n",
       "      <th>2022-03-17</th>\n",
       "      <td>73.730003</td>\n",
       "      <td>75.239998</td>\n",
       "      <td>72.970001</td>\n",
       "      <td>74.629997</td>\n",
       "      <td>31166</td>\n",
       "    </tr>\n",
       "    <tr>\n",
       "      <th>2022-03-18</th>\n",
       "      <td>74.830002</td>\n",
       "      <td>75.239998</td>\n",
       "      <td>71.320000</td>\n",
       "      <td>72.290001</td>\n",
       "      <td>44955</td>\n",
       "    </tr>\n",
       "    <tr>\n",
       "      <th>2022-03-21</th>\n",
       "      <td>72.580002</td>\n",
       "      <td>74.639999</td>\n",
       "      <td>72.580002</td>\n",
       "      <td>73.709999</td>\n",
       "      <td>33432</td>\n",
       "    </tr>\n",
       "  </tbody>\n",
       "</table>\n",
       "<p>5314 rows × 5 columns</p>\n",
       "</div>"
      ],
      "text/plain": [
       "                 Open       High        Low      Close  Volume\n",
       "Date                                                          \n",
       "2000-09-20  15.350000  15.350000  15.350000  15.270000       4\n",
       "2000-09-21  15.350000  15.350000  15.350000  15.360000       1\n",
       "2000-10-03  15.300000  15.300000  15.300000  15.300000       1\n",
       "2000-10-04  15.300000  15.300000  15.300000  15.230000       1\n",
       "2000-10-09  15.300000  15.300000  15.300000  15.120000       1\n",
       "...               ...        ...        ...        ...     ...\n",
       "2022-03-15  74.400002  74.400002  72.290001  73.680000   36703\n",
       "2022-03-16  73.790001  74.980003  73.190002  73.550003   40337\n",
       "2022-03-17  73.730003  75.239998  72.970001  74.629997   31166\n",
       "2022-03-18  74.830002  75.239998  71.320000  72.290001   44955\n",
       "2022-03-21  72.580002  74.639999  72.580002  73.709999   33432\n",
       "\n",
       "[5314 rows x 5 columns]"
      ]
     },
     "execution_count": 7,
     "metadata": {},
     "output_type": "execute_result"
    }
   ],
   "source": [
    "hist_soyoil_df"
   ]
  },
  {
   "cell_type": "code",
   "execution_count": 8,
   "id": "9ac00f21",
   "metadata": {},
   "outputs": [
    {
     "name": "stdout",
     "output_type": "stream",
     "text": [
      "5314 5338 5412\n"
     ]
    }
   ],
   "source": [
    "print(len(hist_soyoil_df),len(hist_soymeal_df),len(hist_soybean_df))"
   ]
  },
  {
   "cell_type": "code",
   "execution_count": 9,
   "id": "fb386886",
   "metadata": {},
   "outputs": [],
   "source": [
    "# Removing index from soybean, soymeal and soyoil\n",
    "\n",
    "df_soybean = hist_soybean_df.reset_index(level=0)\n",
    "df_soymeal = hist_soymeal_df.reset_index(level=0)\n",
    "df_soyoil = hist_soyoil_df.reset_index(level=0)"
   ]
  },
  {
   "cell_type": "code",
   "execution_count": 10,
   "id": "70fa80c4",
   "metadata": {},
   "outputs": [
    {
     "data": {
      "text/html": [
       "<div>\n",
       "<style scoped>\n",
       "    .dataframe tbody tr th:only-of-type {\n",
       "        vertical-align: middle;\n",
       "    }\n",
       "\n",
       "    .dataframe tbody tr th {\n",
       "        vertical-align: top;\n",
       "    }\n",
       "\n",
       "    .dataframe thead th {\n",
       "        text-align: right;\n",
       "    }\n",
       "</style>\n",
       "<table border=\"1\" class=\"dataframe\">\n",
       "  <thead>\n",
       "    <tr style=\"text-align: right;\">\n",
       "      <th></th>\n",
       "      <th>Date</th>\n",
       "      <th>Open</th>\n",
       "      <th>High</th>\n",
       "      <th>Low</th>\n",
       "      <th>Close</th>\n",
       "      <th>Volume</th>\n",
       "    </tr>\n",
       "  </thead>\n",
       "  <tbody>\n",
       "    <tr>\n",
       "      <th>0</th>\n",
       "      <td>2000-09-15</td>\n",
       "      <td>491.00</td>\n",
       "      <td>493.75</td>\n",
       "      <td>490.00</td>\n",
       "      <td>493.75</td>\n",
       "      <td>445</td>\n",
       "    </tr>\n",
       "    <tr>\n",
       "      <th>1</th>\n",
       "      <td>2000-09-18</td>\n",
       "      <td>483.25</td>\n",
       "      <td>486.00</td>\n",
       "      <td>482.50</td>\n",
       "      <td>484.00</td>\n",
       "      <td>382</td>\n",
       "    </tr>\n",
       "    <tr>\n",
       "      <th>2</th>\n",
       "      <td>2000-09-19</td>\n",
       "      <td>485.00</td>\n",
       "      <td>485.50</td>\n",
       "      <td>483.50</td>\n",
       "      <td>484.25</td>\n",
       "      <td>325</td>\n",
       "    </tr>\n",
       "    <tr>\n",
       "      <th>3</th>\n",
       "      <td>2000-09-20</td>\n",
       "      <td>483.50</td>\n",
       "      <td>484.25</td>\n",
       "      <td>483.25</td>\n",
       "      <td>483.25</td>\n",
       "      <td>321</td>\n",
       "    </tr>\n",
       "    <tr>\n",
       "      <th>4</th>\n",
       "      <td>2000-09-21</td>\n",
       "      <td>486.75</td>\n",
       "      <td>488.00</td>\n",
       "      <td>486.00</td>\n",
       "      <td>486.50</td>\n",
       "      <td>330</td>\n",
       "    </tr>\n",
       "    <tr>\n",
       "      <th>...</th>\n",
       "      <td>...</td>\n",
       "      <td>...</td>\n",
       "      <td>...</td>\n",
       "      <td>...</td>\n",
       "      <td>...</td>\n",
       "      <td>...</td>\n",
       "    </tr>\n",
       "    <tr>\n",
       "      <th>5407</th>\n",
       "      <td>2022-03-15</td>\n",
       "      <td>1674.00</td>\n",
       "      <td>1674.00</td>\n",
       "      <td>1638.00</td>\n",
       "      <td>1658.75</td>\n",
       "      <td>70449</td>\n",
       "    </tr>\n",
       "    <tr>\n",
       "      <th>5408</th>\n",
       "      <td>2022-03-16</td>\n",
       "      <td>1661.00</td>\n",
       "      <td>1681.25</td>\n",
       "      <td>1645.25</td>\n",
       "      <td>1649.25</td>\n",
       "      <td>65232</td>\n",
       "    </tr>\n",
       "    <tr>\n",
       "      <th>5409</th>\n",
       "      <td>2022-03-17</td>\n",
       "      <td>1649.25</td>\n",
       "      <td>1677.50</td>\n",
       "      <td>1647.25</td>\n",
       "      <td>1668.50</td>\n",
       "      <td>74317</td>\n",
       "    </tr>\n",
       "    <tr>\n",
       "      <th>5410</th>\n",
       "      <td>2022-03-18</td>\n",
       "      <td>1669.75</td>\n",
       "      <td>1689.00</td>\n",
       "      <td>1651.50</td>\n",
       "      <td>1668.00</td>\n",
       "      <td>67110</td>\n",
       "    </tr>\n",
       "    <tr>\n",
       "      <th>5411</th>\n",
       "      <td>2022-03-21</td>\n",
       "      <td>1673.00</td>\n",
       "      <td>1710.00</td>\n",
       "      <td>1666.75</td>\n",
       "      <td>1691.00</td>\n",
       "      <td>82394</td>\n",
       "    </tr>\n",
       "  </tbody>\n",
       "</table>\n",
       "<p>5412 rows × 6 columns</p>\n",
       "</div>"
      ],
      "text/plain": [
       "           Date     Open     High      Low    Close  Volume\n",
       "0    2000-09-15   491.00   493.75   490.00   493.75     445\n",
       "1    2000-09-18   483.25   486.00   482.50   484.00     382\n",
       "2    2000-09-19   485.00   485.50   483.50   484.25     325\n",
       "3    2000-09-20   483.50   484.25   483.25   483.25     321\n",
       "4    2000-09-21   486.75   488.00   486.00   486.50     330\n",
       "...         ...      ...      ...      ...      ...     ...\n",
       "5407 2022-03-15  1674.00  1674.00  1638.00  1658.75   70449\n",
       "5408 2022-03-16  1661.00  1681.25  1645.25  1649.25   65232\n",
       "5409 2022-03-17  1649.25  1677.50  1647.25  1668.50   74317\n",
       "5410 2022-03-18  1669.75  1689.00  1651.50  1668.00   67110\n",
       "5411 2022-03-21  1673.00  1710.00  1666.75  1691.00   82394\n",
       "\n",
       "[5412 rows x 6 columns]"
      ]
     },
     "execution_count": 10,
     "metadata": {},
     "output_type": "execute_result"
    }
   ],
   "source": [
    "df_soybean"
   ]
  },
  {
   "cell_type": "code",
   "execution_count": 11,
   "id": "48b1f69d",
   "metadata": {},
   "outputs": [
    {
     "data": {
      "text/html": [
       "<div>\n",
       "<style scoped>\n",
       "    .dataframe tbody tr th:only-of-type {\n",
       "        vertical-align: middle;\n",
       "    }\n",
       "\n",
       "    .dataframe tbody tr th {\n",
       "        vertical-align: top;\n",
       "    }\n",
       "\n",
       "    .dataframe thead th {\n",
       "        text-align: right;\n",
       "    }\n",
       "</style>\n",
       "<table border=\"1\" class=\"dataframe\">\n",
       "  <thead>\n",
       "    <tr style=\"text-align: right;\">\n",
       "      <th></th>\n",
       "      <th>Date</th>\n",
       "      <th>Open</th>\n",
       "      <th>High</th>\n",
       "      <th>Low</th>\n",
       "      <th>Close</th>\n",
       "      <th>Volume</th>\n",
       "    </tr>\n",
       "  </thead>\n",
       "  <tbody>\n",
       "    <tr>\n",
       "      <th>0</th>\n",
       "      <td>2000-09-15</td>\n",
       "      <td>167.500000</td>\n",
       "      <td>167.500000</td>\n",
       "      <td>167.500000</td>\n",
       "      <td>167.500000</td>\n",
       "      <td>31</td>\n",
       "    </tr>\n",
       "    <tr>\n",
       "      <th>1</th>\n",
       "      <td>2000-09-18</td>\n",
       "      <td>167.000000</td>\n",
       "      <td>167.000000</td>\n",
       "      <td>166.899994</td>\n",
       "      <td>166.899994</td>\n",
       "      <td>31</td>\n",
       "    </tr>\n",
       "    <tr>\n",
       "      <th>2</th>\n",
       "      <td>2000-09-20</td>\n",
       "      <td>167.000000</td>\n",
       "      <td>167.000000</td>\n",
       "      <td>166.899994</td>\n",
       "      <td>167.800003</td>\n",
       "      <td>31</td>\n",
       "    </tr>\n",
       "    <tr>\n",
       "      <th>3</th>\n",
       "      <td>2000-09-21</td>\n",
       "      <td>167.000000</td>\n",
       "      <td>167.000000</td>\n",
       "      <td>166.899994</td>\n",
       "      <td>170.800003</td>\n",
       "      <td>5</td>\n",
       "    </tr>\n",
       "    <tr>\n",
       "      <th>4</th>\n",
       "      <td>2000-09-25</td>\n",
       "      <td>172.300003</td>\n",
       "      <td>173.500000</td>\n",
       "      <td>172.300003</td>\n",
       "      <td>173.500000</td>\n",
       "      <td>5</td>\n",
       "    </tr>\n",
       "    <tr>\n",
       "      <th>...</th>\n",
       "      <td>...</td>\n",
       "      <td>...</td>\n",
       "      <td>...</td>\n",
       "      <td>...</td>\n",
       "      <td>...</td>\n",
       "      <td>...</td>\n",
       "    </tr>\n",
       "    <tr>\n",
       "      <th>5333</th>\n",
       "      <td>2022-03-15</td>\n",
       "      <td>485.100006</td>\n",
       "      <td>488.500000</td>\n",
       "      <td>475.600006</td>\n",
       "      <td>484.000000</td>\n",
       "      <td>32371</td>\n",
       "    </tr>\n",
       "    <tr>\n",
       "      <th>5334</th>\n",
       "      <td>2022-03-16</td>\n",
       "      <td>483.299988</td>\n",
       "      <td>489.799988</td>\n",
       "      <td>476.100006</td>\n",
       "      <td>478.000000</td>\n",
       "      <td>38574</td>\n",
       "    </tr>\n",
       "    <tr>\n",
       "      <th>5335</th>\n",
       "      <td>2022-03-17</td>\n",
       "      <td>478.500000</td>\n",
       "      <td>482.000000</td>\n",
       "      <td>471.500000</td>\n",
       "      <td>474.100006</td>\n",
       "      <td>35251</td>\n",
       "    </tr>\n",
       "    <tr>\n",
       "      <th>5336</th>\n",
       "      <td>2022-03-18</td>\n",
       "      <td>474.200012</td>\n",
       "      <td>479.000000</td>\n",
       "      <td>472.000000</td>\n",
       "      <td>477.000000</td>\n",
       "      <td>26886</td>\n",
       "    </tr>\n",
       "    <tr>\n",
       "      <th>5337</th>\n",
       "      <td>2022-03-21</td>\n",
       "      <td>477.100006</td>\n",
       "      <td>485.399994</td>\n",
       "      <td>475.799988</td>\n",
       "      <td>481.299988</td>\n",
       "      <td>27857</td>\n",
       "    </tr>\n",
       "  </tbody>\n",
       "</table>\n",
       "<p>5338 rows × 6 columns</p>\n",
       "</div>"
      ],
      "text/plain": [
       "           Date        Open        High         Low       Close  Volume\n",
       "0    2000-09-15  167.500000  167.500000  167.500000  167.500000      31\n",
       "1    2000-09-18  167.000000  167.000000  166.899994  166.899994      31\n",
       "2    2000-09-20  167.000000  167.000000  166.899994  167.800003      31\n",
       "3    2000-09-21  167.000000  167.000000  166.899994  170.800003       5\n",
       "4    2000-09-25  172.300003  173.500000  172.300003  173.500000       5\n",
       "...         ...         ...         ...         ...         ...     ...\n",
       "5333 2022-03-15  485.100006  488.500000  475.600006  484.000000   32371\n",
       "5334 2022-03-16  483.299988  489.799988  476.100006  478.000000   38574\n",
       "5335 2022-03-17  478.500000  482.000000  471.500000  474.100006   35251\n",
       "5336 2022-03-18  474.200012  479.000000  472.000000  477.000000   26886\n",
       "5337 2022-03-21  477.100006  485.399994  475.799988  481.299988   27857\n",
       "\n",
       "[5338 rows x 6 columns]"
      ]
     },
     "execution_count": 11,
     "metadata": {},
     "output_type": "execute_result"
    }
   ],
   "source": [
    "df_soymeal"
   ]
  },
  {
   "cell_type": "code",
   "execution_count": 12,
   "id": "eace1fb5",
   "metadata": {},
   "outputs": [
    {
     "data": {
      "text/html": [
       "<div>\n",
       "<style scoped>\n",
       "    .dataframe tbody tr th:only-of-type {\n",
       "        vertical-align: middle;\n",
       "    }\n",
       "\n",
       "    .dataframe tbody tr th {\n",
       "        vertical-align: top;\n",
       "    }\n",
       "\n",
       "    .dataframe thead th {\n",
       "        text-align: right;\n",
       "    }\n",
       "</style>\n",
       "<table border=\"1\" class=\"dataframe\">\n",
       "  <thead>\n",
       "    <tr style=\"text-align: right;\">\n",
       "      <th></th>\n",
       "      <th>Date</th>\n",
       "      <th>Open</th>\n",
       "      <th>High</th>\n",
       "      <th>Low</th>\n",
       "      <th>Close</th>\n",
       "      <th>Volume</th>\n",
       "    </tr>\n",
       "  </thead>\n",
       "  <tbody>\n",
       "    <tr>\n",
       "      <th>0</th>\n",
       "      <td>2000-09-20</td>\n",
       "      <td>15.350000</td>\n",
       "      <td>15.350000</td>\n",
       "      <td>15.350000</td>\n",
       "      <td>15.270000</td>\n",
       "      <td>4</td>\n",
       "    </tr>\n",
       "    <tr>\n",
       "      <th>1</th>\n",
       "      <td>2000-09-21</td>\n",
       "      <td>15.350000</td>\n",
       "      <td>15.350000</td>\n",
       "      <td>15.350000</td>\n",
       "      <td>15.360000</td>\n",
       "      <td>1</td>\n",
       "    </tr>\n",
       "    <tr>\n",
       "      <th>2</th>\n",
       "      <td>2000-10-03</td>\n",
       "      <td>15.300000</td>\n",
       "      <td>15.300000</td>\n",
       "      <td>15.300000</td>\n",
       "      <td>15.300000</td>\n",
       "      <td>1</td>\n",
       "    </tr>\n",
       "    <tr>\n",
       "      <th>3</th>\n",
       "      <td>2000-10-04</td>\n",
       "      <td>15.300000</td>\n",
       "      <td>15.300000</td>\n",
       "      <td>15.300000</td>\n",
       "      <td>15.230000</td>\n",
       "      <td>1</td>\n",
       "    </tr>\n",
       "    <tr>\n",
       "      <th>4</th>\n",
       "      <td>2000-10-09</td>\n",
       "      <td>15.300000</td>\n",
       "      <td>15.300000</td>\n",
       "      <td>15.300000</td>\n",
       "      <td>15.120000</td>\n",
       "      <td>1</td>\n",
       "    </tr>\n",
       "    <tr>\n",
       "      <th>...</th>\n",
       "      <td>...</td>\n",
       "      <td>...</td>\n",
       "      <td>...</td>\n",
       "      <td>...</td>\n",
       "      <td>...</td>\n",
       "      <td>...</td>\n",
       "    </tr>\n",
       "    <tr>\n",
       "      <th>5309</th>\n",
       "      <td>2022-03-15</td>\n",
       "      <td>74.400002</td>\n",
       "      <td>74.400002</td>\n",
       "      <td>72.290001</td>\n",
       "      <td>73.680000</td>\n",
       "      <td>36703</td>\n",
       "    </tr>\n",
       "    <tr>\n",
       "      <th>5310</th>\n",
       "      <td>2022-03-16</td>\n",
       "      <td>73.790001</td>\n",
       "      <td>74.980003</td>\n",
       "      <td>73.190002</td>\n",
       "      <td>73.550003</td>\n",
       "      <td>40337</td>\n",
       "    </tr>\n",
       "    <tr>\n",
       "      <th>5311</th>\n",
       "      <td>2022-03-17</td>\n",
       "      <td>73.730003</td>\n",
       "      <td>75.239998</td>\n",
       "      <td>72.970001</td>\n",
       "      <td>74.629997</td>\n",
       "      <td>31166</td>\n",
       "    </tr>\n",
       "    <tr>\n",
       "      <th>5312</th>\n",
       "      <td>2022-03-18</td>\n",
       "      <td>74.830002</td>\n",
       "      <td>75.239998</td>\n",
       "      <td>71.320000</td>\n",
       "      <td>72.290001</td>\n",
       "      <td>44955</td>\n",
       "    </tr>\n",
       "    <tr>\n",
       "      <th>5313</th>\n",
       "      <td>2022-03-21</td>\n",
       "      <td>72.580002</td>\n",
       "      <td>74.639999</td>\n",
       "      <td>72.580002</td>\n",
       "      <td>73.709999</td>\n",
       "      <td>33432</td>\n",
       "    </tr>\n",
       "  </tbody>\n",
       "</table>\n",
       "<p>5314 rows × 6 columns</p>\n",
       "</div>"
      ],
      "text/plain": [
       "           Date       Open       High        Low      Close  Volume\n",
       "0    2000-09-20  15.350000  15.350000  15.350000  15.270000       4\n",
       "1    2000-09-21  15.350000  15.350000  15.350000  15.360000       1\n",
       "2    2000-10-03  15.300000  15.300000  15.300000  15.300000       1\n",
       "3    2000-10-04  15.300000  15.300000  15.300000  15.230000       1\n",
       "4    2000-10-09  15.300000  15.300000  15.300000  15.120000       1\n",
       "...         ...        ...        ...        ...        ...     ...\n",
       "5309 2022-03-15  74.400002  74.400002  72.290001  73.680000   36703\n",
       "5310 2022-03-16  73.790001  74.980003  73.190002  73.550003   40337\n",
       "5311 2022-03-17  73.730003  75.239998  72.970001  74.629997   31166\n",
       "5312 2022-03-18  74.830002  75.239998  71.320000  72.290001   44955\n",
       "5313 2022-03-21  72.580002  74.639999  72.580002  73.709999   33432\n",
       "\n",
       "[5314 rows x 6 columns]"
      ]
     },
     "execution_count": 12,
     "metadata": {},
     "output_type": "execute_result"
    }
   ],
   "source": [
    "df_soyoil"
   ]
  },
  {
   "cell_type": "code",
   "execution_count": 13,
   "id": "181bfb68",
   "metadata": {},
   "outputs": [],
   "source": [
    "# X.shape(1 mercado, 5280 dias, 6 features)"
   ]
  },
  {
   "cell_type": "code",
   "execution_count": 14,
   "id": "eb782376",
   "metadata": {},
   "outputs": [
    {
     "data": {
      "text/plain": [
       "2020    253\n",
       "2004    253\n",
       "2005    253\n",
       "2008    253\n",
       "2021    252\n",
       "2019    252\n",
       "2015    252\n",
       "2014    252\n",
       "2013    252\n",
       "2011    252\n",
       "2009    252\n",
       "2006    252\n",
       "2003    252\n",
       "2002    252\n",
       "2010    252\n",
       "2007    251\n",
       "2017    251\n",
       "2018    251\n",
       "2012    250\n",
       "2016    250\n",
       "2001    247\n",
       "2000     74\n",
       "2022     54\n",
       "Name: Date, dtype: int64"
      ]
     },
     "execution_count": 14,
     "metadata": {},
     "output_type": "execute_result"
    }
   ],
   "source": [
    "# Cheking the maximum number of work days in a year\n",
    "\n",
    "df_soybean['Date'].dt.year.value_counts()"
   ]
  },
  {
   "cell_type": "code",
   "execution_count": 15,
   "id": "87f5abc0",
   "metadata": {},
   "outputs": [
    {
     "name": "stdout",
     "output_type": "stream",
     "text": [
      "<class 'pandas.core.frame.DataFrame'>\n",
      "RangeIndex: 5412 entries, 0 to 5411\n",
      "Data columns (total 6 columns):\n",
      " #   Column  Non-Null Count  Dtype         \n",
      "---  ------  --------------  -----         \n",
      " 0   Date    5412 non-null   datetime64[ns]\n",
      " 1   Open    5412 non-null   float64       \n",
      " 2   High    5412 non-null   float64       \n",
      " 3   Low     5412 non-null   float64       \n",
      " 4   Close   5412 non-null   float64       \n",
      " 5   Volume  5412 non-null   int64         \n",
      "dtypes: datetime64[ns](1), float64(4), int64(1)\n",
      "memory usage: 253.8 KB\n"
     ]
    }
   ],
   "source": [
    "# Checking dataset columns dtype \n",
    "\n",
    "df_soybean.info()"
   ]
  },
  {
   "cell_type": "code",
   "execution_count": 16,
   "id": "1850060f",
   "metadata": {},
   "outputs": [],
   "source": [
    "# Create a random sequence of 253 days\n",
    "\n",
    "def subsample_sequence(df, length = 253):\n",
    "    \"\"\"\n",
    "    Given the initial dataframe `df`, return a shorter dataframe sequence of length `length`.\n",
    "    This shorter sequence should be selected at random\n",
    "    \"\"\"\n",
    "    value = abs(randint(0, len(df) - 2*length))\n",
    "    df_sample = df[value:length+value]\n",
    "    return df_sample"
   ]
  },
  {
   "cell_type": "code",
   "execution_count": 17,
   "id": "bf4d3aa9",
   "metadata": {},
   "outputs": [],
   "source": [
    "# Create X and y from subsample_sequence\n",
    "\n",
    "def split_subsample_sequence(df, length=253,months=12):\n",
    "    '''Create one single random (X,y) pair'''\n",
    "    # $CHALLENGIFY_BEGIN\n",
    "    df_subsample = subsample_sequence(df, length)\n",
    "    y_samples_index = []\n",
    "    for step in range(0,length,22):\n",
    "        # Pega os 12 próximos index (mês) para cada fechamento daquele mês\n",
    "        index_passado = df_subsample.index[-1] + step\n",
    "        y_samples_index.append(index_passado)\n",
    "    # Pega os 12 valores de fechamento referentes aqueles index\n",
    "    y_sample = df['Close'].to_numpy()[y_samples_index]\n",
    "    X_sample = df_subsample[0:length -1]\n",
    "    X_sample = X_sample.values\n",
    "    # $CHALLENGIFY_END\n",
    "    return np.array(X_sample), np.array(y_sample)"
   ]
  },
  {
   "cell_type": "code",
   "execution_count": 18,
   "id": "7323c1d0",
   "metadata": {},
   "outputs": [
    {
     "name": "stdout",
     "output_type": "stream",
     "text": [
      "(252, 6) (12,)\n"
     ]
    }
   ],
   "source": [
    "X,Y = (split_subsample_sequence(df_soybean,253))\n",
    "print(X.shape,Y.shape)"
   ]
  },
  {
   "cell_type": "code",
   "execution_count": 19,
   "id": "c0078c81",
   "metadata": {},
   "outputs": [],
   "source": [
    "# Create n sequences for model price prediction\n",
    "\n",
    "def get_X_y(df, n_sequences=100, length=253):\n",
    "    '''Return a list of samples (X, y)'''\n",
    "    # $CHALLENGIFY_BEGIN\n",
    "    X, y = [], []\n",
    "\n",
    "    for i in range(n_sequences):\n",
    "        (xi, yi) = split_subsample_sequence(df, length)\n",
    "        X.append(xi)\n",
    "        y.append(yi)\n",
    "        \n",
    "    X = np.array(X)\n",
    "    y = np.array(y)\n",
    "    # $CHALLENGIFY_END\n",
    "    return X, y"
   ]
  },
  {
   "cell_type": "code",
   "execution_count": 20,
   "id": "fc2cd654",
   "metadata": {},
   "outputs": [
    {
     "data": {
      "text/plain": [
       "((100, 252, 6), (100, 12))"
      ]
     },
     "execution_count": 20,
     "metadata": {},
     "output_type": "execute_result"
    }
   ],
   "source": [
    "# Checking X and y shapes\n",
    "\n",
    "X,y = get_X_y(df_soybean,100,253)\n",
    "X.shape,y.shape"
   ]
  },
  {
   "cell_type": "code",
   "execution_count": 21,
   "id": "f21e7c2b",
   "metadata": {},
   "outputs": [],
   "source": [
    "# Split dataset into test and train \n",
    "\n",
    "len_ = int(0.8*df_soybean.shape[0])\n",
    "df_soybean_train = df_soybean[:len_]\n",
    "df_soybean_test = df_soybean[len_:]\n",
    "df_soybean_test\n",
    "df_soybean_test.reset_index(drop = True, inplace = True)"
   ]
  },
  {
   "cell_type": "code",
   "execution_count": 22,
   "id": "0e3a20db",
   "metadata": {},
   "outputs": [
    {
     "data": {
      "text/html": [
       "<div>\n",
       "<style scoped>\n",
       "    .dataframe tbody tr th:only-of-type {\n",
       "        vertical-align: middle;\n",
       "    }\n",
       "\n",
       "    .dataframe tbody tr th {\n",
       "        vertical-align: top;\n",
       "    }\n",
       "\n",
       "    .dataframe thead th {\n",
       "        text-align: right;\n",
       "    }\n",
       "</style>\n",
       "<table border=\"1\" class=\"dataframe\">\n",
       "  <thead>\n",
       "    <tr style=\"text-align: right;\">\n",
       "      <th></th>\n",
       "      <th>Date</th>\n",
       "      <th>Open</th>\n",
       "      <th>High</th>\n",
       "      <th>Low</th>\n",
       "      <th>Close</th>\n",
       "      <th>Volume</th>\n",
       "    </tr>\n",
       "  </thead>\n",
       "  <tbody>\n",
       "    <tr>\n",
       "      <th>0</th>\n",
       "      <td>2017-11-30</td>\n",
       "      <td>992.75</td>\n",
       "      <td>993.00</td>\n",
       "      <td>985.00</td>\n",
       "      <td>985.75</td>\n",
       "      <td>121206</td>\n",
       "    </tr>\n",
       "    <tr>\n",
       "      <th>1</th>\n",
       "      <td>2017-12-01</td>\n",
       "      <td>985.75</td>\n",
       "      <td>995.75</td>\n",
       "      <td>985.50</td>\n",
       "      <td>994.25</td>\n",
       "      <td>136840</td>\n",
       "    </tr>\n",
       "    <tr>\n",
       "      <th>2</th>\n",
       "      <td>2017-12-04</td>\n",
       "      <td>998.25</td>\n",
       "      <td>1008.50</td>\n",
       "      <td>996.75</td>\n",
       "      <td>998.50</td>\n",
       "      <td>165467</td>\n",
       "    </tr>\n",
       "    <tr>\n",
       "      <th>3</th>\n",
       "      <td>2017-12-05</td>\n",
       "      <td>998.50</td>\n",
       "      <td>1015.00</td>\n",
       "      <td>997.50</td>\n",
       "      <td>1008.50</td>\n",
       "      <td>157924</td>\n",
       "    </tr>\n",
       "    <tr>\n",
       "      <th>4</th>\n",
       "      <td>2017-12-06</td>\n",
       "      <td>1008.00</td>\n",
       "      <td>1014.25</td>\n",
       "      <td>995.00</td>\n",
       "      <td>1002.75</td>\n",
       "      <td>194108</td>\n",
       "    </tr>\n",
       "    <tr>\n",
       "      <th>...</th>\n",
       "      <td>...</td>\n",
       "      <td>...</td>\n",
       "      <td>...</td>\n",
       "      <td>...</td>\n",
       "      <td>...</td>\n",
       "      <td>...</td>\n",
       "    </tr>\n",
       "    <tr>\n",
       "      <th>1078</th>\n",
       "      <td>2022-03-15</td>\n",
       "      <td>1674.00</td>\n",
       "      <td>1674.00</td>\n",
       "      <td>1638.00</td>\n",
       "      <td>1658.75</td>\n",
       "      <td>70449</td>\n",
       "    </tr>\n",
       "    <tr>\n",
       "      <th>1079</th>\n",
       "      <td>2022-03-16</td>\n",
       "      <td>1661.00</td>\n",
       "      <td>1681.25</td>\n",
       "      <td>1645.25</td>\n",
       "      <td>1649.25</td>\n",
       "      <td>65232</td>\n",
       "    </tr>\n",
       "    <tr>\n",
       "      <th>1080</th>\n",
       "      <td>2022-03-17</td>\n",
       "      <td>1649.25</td>\n",
       "      <td>1677.50</td>\n",
       "      <td>1647.25</td>\n",
       "      <td>1668.50</td>\n",
       "      <td>74317</td>\n",
       "    </tr>\n",
       "    <tr>\n",
       "      <th>1081</th>\n",
       "      <td>2022-03-18</td>\n",
       "      <td>1669.75</td>\n",
       "      <td>1689.00</td>\n",
       "      <td>1651.50</td>\n",
       "      <td>1668.00</td>\n",
       "      <td>67110</td>\n",
       "    </tr>\n",
       "    <tr>\n",
       "      <th>1082</th>\n",
       "      <td>2022-03-21</td>\n",
       "      <td>1673.00</td>\n",
       "      <td>1710.00</td>\n",
       "      <td>1666.75</td>\n",
       "      <td>1691.00</td>\n",
       "      <td>82394</td>\n",
       "    </tr>\n",
       "  </tbody>\n",
       "</table>\n",
       "<p>1083 rows × 6 columns</p>\n",
       "</div>"
      ],
      "text/plain": [
       "           Date     Open     High      Low    Close  Volume\n",
       "0    2017-11-30   992.75   993.00   985.00   985.75  121206\n",
       "1    2017-12-01   985.75   995.75   985.50   994.25  136840\n",
       "2    2017-12-04   998.25  1008.50   996.75   998.50  165467\n",
       "3    2017-12-05   998.50  1015.00   997.50  1008.50  157924\n",
       "4    2017-12-06  1008.00  1014.25   995.00  1002.75  194108\n",
       "...         ...      ...      ...      ...      ...     ...\n",
       "1078 2022-03-15  1674.00  1674.00  1638.00  1658.75   70449\n",
       "1079 2022-03-16  1661.00  1681.25  1645.25  1649.25   65232\n",
       "1080 2022-03-17  1649.25  1677.50  1647.25  1668.50   74317\n",
       "1081 2022-03-18  1669.75  1689.00  1651.50  1668.00   67110\n",
       "1082 2022-03-21  1673.00  1710.00  1666.75  1691.00   82394\n",
       "\n",
       "[1083 rows x 6 columns]"
      ]
     },
     "execution_count": 22,
     "metadata": {},
     "output_type": "execute_result"
    }
   ],
   "source": [
    "df_soybean_test"
   ]
  },
  {
   "cell_type": "code",
   "execution_count": 23,
   "id": "0a67c140",
   "metadata": {},
   "outputs": [],
   "source": [
    "# Create X_train, y_train, X_test, y_test\n",
    "\n",
    "X_train, y_train = get_X_y(df_soybean_train, 100, 253)\n",
    "X_test, y_test = get_X_y(df_soybean_test, 100, 253)"
   ]
  },
  {
   "cell_type": "code",
   "execution_count": 24,
   "id": "96bd2a97",
   "metadata": {},
   "outputs": [],
   "source": [
    "# Remove column Date and transform all columns into float32 dtype\n",
    "\n",
    "X_train=np.asarray(X_train[:,:,1:]).astype(np.float32)\n",
    "X_test=np.asarray(X_test[:,:,1:]).astype(np.float32)"
   ]
  },
  {
   "cell_type": "code",
   "execution_count": 25,
   "id": "8c0332c5",
   "metadata": {},
   "outputs": [
    {
     "name": "stderr",
     "output_type": "stream",
     "text": [
      "2022-03-23 00:54:51.520361: W tensorflow/stream_executor/platform/default/dso_loader.cc:64] Could not load dynamic library 'libcudart.so.11.0'; dlerror: libcudart.so.11.0: cannot open shared object file: No such file or directory\n",
      "2022-03-23 00:54:51.520640: I tensorflow/stream_executor/cuda/cudart_stub.cc:29] Ignore above cudart dlerror if you do not have a GPU set up on your machine.\n"
     ]
    }
   ],
   "source": [
    "# LSTM architecture\n",
    "\n",
    "from tensorflow.keras import models\n",
    "from tensorflow.keras import layers\n",
    "from tensorflow.keras import optimizers, metrics\n",
    "from tensorflow.keras.layers.experimental.preprocessing import Normalization\n",
    "\n",
    "\n",
    "def init_model():\n",
    "    metric = metrics.MAPE\n",
    "    opt = optimizers.RMSprop(learning_rate=0.01)\n",
    "    \n",
    "    normalizer = Normalization()\n",
    "    normalizer.adapt(np.asarray(X_train))\n",
    "\n",
    "    model = models.Sequential()\n",
    "    model.add(normalizer)\n",
    "    model.add(layers.LSTM(30,input_shape=(252,5), return_sequences = False, activation='tanh'))\n",
    "    model.add(layers.Dense(10, activation='relu'))\n",
    "    model.add(layers.Dense(12, activation='linear'))\n",
    "    \n",
    "    model.compile(loss='mse', \n",
    "                  optimizer=opt, \n",
    "                  metrics=[metric])\n",
    "    \n",
    "    return model"
   ]
  },
  {
   "cell_type": "code",
   "execution_count": 26,
   "id": "800b23ef",
   "metadata": {},
   "outputs": [
    {
     "name": "stderr",
     "output_type": "stream",
     "text": [
      "2022-03-23 00:54:59.767214: W tensorflow/stream_executor/platform/default/dso_loader.cc:64] Could not load dynamic library 'libcuda.so.1'; dlerror: libcuda.so.1: cannot open shared object file: No such file or directory\n",
      "2022-03-23 00:54:59.767294: W tensorflow/stream_executor/cuda/cuda_driver.cc:269] failed call to cuInit: UNKNOWN ERROR (303)\n",
      "2022-03-23 00:54:59.767358: I tensorflow/stream_executor/cuda/cuda_diagnostics.cc:156] kernel driver does not appear to be running on this host (LAPTOP-KHPUFKCM): /proc/driver/nvidia/version does not exist\n",
      "2022-03-23 00:54:59.780413: I tensorflow/core/platform/cpu_feature_guard.cc:151] This TensorFlow binary is optimized with oneAPI Deep Neural Network Library (oneDNN) to use the following CPU instructions in performance-critical operations:  AVX2 FMA\n",
      "To enable them in other operations, rebuild TensorFlow with the appropriate compiler flags.\n"
     ]
    },
    {
     "data": {
      "text/plain": [
       "<keras.engine.sequential.Sequential at 0x7f2f06608eb0>"
      ]
     },
     "execution_count": 26,
     "metadata": {},
     "output_type": "execute_result"
    }
   ],
   "source": [
    "# Model initialization\n",
    "\n",
    "model = init_model()\n",
    "model"
   ]
  },
  {
   "cell_type": "code",
   "execution_count": 27,
   "id": "07195809",
   "metadata": {},
   "outputs": [
    {
     "name": "stdout",
     "output_type": "stream",
     "text": [
      "Model: \"sequential\"\n",
      "_________________________________________________________________\n",
      " Layer (type)                Output Shape              Param #   \n",
      "=================================================================\n",
      " normalization (Normalizatio  (None, None, 5)          11        \n",
      " n)                                                              \n",
      "                                                                 \n",
      " lstm (LSTM)                 (None, 30)                4320      \n",
      "                                                                 \n",
      " dense (Dense)               (None, 10)                310       \n",
      "                                                                 \n",
      " dense_1 (Dense)             (None, 12)                132       \n",
      "                                                                 \n",
      "=================================================================\n",
      "Total params: 4,773\n",
      "Trainable params: 4,762\n",
      "Non-trainable params: 11\n",
      "_________________________________________________________________\n"
     ]
    }
   ],
   "source": [
    "# Model summary\n",
    "\n",
    "model.summary()"
   ]
  },
  {
   "cell_type": "code",
   "execution_count": 28,
   "id": "7fad2e27",
   "metadata": {},
   "outputs": [
    {
     "name": "stdout",
     "output_type": "stream",
     "text": [
      "Epoch 1/100\n",
      "80/80 [==============================] - 10s 69ms/step - loss: 945580.6875 - mean_absolute_percentage_error: 95.3813 - val_loss: 917561.3125 - val_mean_absolute_percentage_error: 89.4234\n",
      "Epoch 2/100\n",
      "80/80 [==============================] - 4s 52ms/step - loss: 654091.9375 - mean_absolute_percentage_error: 73.6988 - val_loss: 411770.1562 - val_mean_absolute_percentage_error: 51.0238\n",
      "Epoch 3/100\n",
      "80/80 [==============================] - 2s 28ms/step - loss: 221543.7188 - mean_absolute_percentage_error: 34.8440 - val_loss: 132997.4375 - val_mean_absolute_percentage_error: 31.1779\n",
      "Epoch 4/100\n",
      "80/80 [==============================] - 2s 27ms/step - loss: 89674.4922 - mean_absolute_percentage_error: 25.2329 - val_loss: 53236.2500 - val_mean_absolute_percentage_error: 18.6780\n",
      "Epoch 5/100\n",
      "80/80 [==============================] - 2s 27ms/step - loss: 51032.6914 - mean_absolute_percentage_error: 19.7772 - val_loss: 31461.4023 - val_mean_absolute_percentage_error: 11.5957\n",
      "Epoch 6/100\n",
      "80/80 [==============================] - 2s 28ms/step - loss: 95048.2422 - mean_absolute_percentage_error: 21.0939 - val_loss: 26476.0273 - val_mean_absolute_percentage_error: 11.6212\n",
      "Epoch 7/100\n",
      "80/80 [==============================] - 2s 27ms/step - loss: 65501.4258 - mean_absolute_percentage_error: 18.2316 - val_loss: 30280.1992 - val_mean_absolute_percentage_error: 13.8964\n",
      "Epoch 8/100\n",
      "80/80 [==============================] - 2s 28ms/step - loss: 40351.6055 - mean_absolute_percentage_error: 17.4184 - val_loss: 74282.5938 - val_mean_absolute_percentage_error: 17.4498\n",
      "Epoch 9/100\n",
      "80/80 [==============================] - 2s 27ms/step - loss: 212161.7812 - mean_absolute_percentage_error: 27.1520 - val_loss: 260942.8281 - val_mean_absolute_percentage_error: 26.4682\n",
      "Epoch 10/100\n",
      "80/80 [==============================] - 2s 27ms/step - loss: 56878.1016 - mean_absolute_percentage_error: 17.1420 - val_loss: 33572.7070 - val_mean_absolute_percentage_error: 14.9165\n",
      "Epoch 11/100\n",
      "80/80 [==============================] - 2s 28ms/step - loss: 45849.3203 - mean_absolute_percentage_error: 16.9239 - val_loss: 25452.4980 - val_mean_absolute_percentage_error: 12.3057\n",
      "Epoch 12/100\n",
      "80/80 [==============================] - 2s 29ms/step - loss: 37270.7773 - mean_absolute_percentage_error: 16.6688 - val_loss: 23724.2637 - val_mean_absolute_percentage_error: 11.6014\n",
      "Epoch 13/100\n",
      "80/80 [==============================] - 2s 30ms/step - loss: 35167.1016 - mean_absolute_percentage_error: 16.0355 - val_loss: 25584.4863 - val_mean_absolute_percentage_error: 13.7715\n",
      "Epoch 14/100\n",
      "80/80 [==============================] - 2s 27ms/step - loss: 33652.9922 - mean_absolute_percentage_error: 16.3631 - val_loss: 24724.4258 - val_mean_absolute_percentage_error: 10.7943\n",
      "Epoch 15/100\n",
      "80/80 [==============================] - 2s 27ms/step - loss: 35429.6797 - mean_absolute_percentage_error: 16.0251 - val_loss: 25201.5469 - val_mean_absolute_percentage_error: 12.1914\n",
      "Epoch 16/100\n",
      "80/80 [==============================] - 2s 27ms/step - loss: 34188.6094 - mean_absolute_percentage_error: 16.0784 - val_loss: 27481.9570 - val_mean_absolute_percentage_error: 15.0797\n",
      "Epoch 17/100\n",
      "80/80 [==============================] - 2s 27ms/step - loss: 33410.4141 - mean_absolute_percentage_error: 15.9212 - val_loss: 23986.0312 - val_mean_absolute_percentage_error: 12.1883\n",
      "Epoch 18/100\n",
      "80/80 [==============================] - 2s 30ms/step - loss: 32695.7910 - mean_absolute_percentage_error: 15.4799 - val_loss: 29975.2500 - val_mean_absolute_percentage_error: 16.5860\n",
      "Epoch 19/100\n",
      "80/80 [==============================] - 2s 29ms/step - loss: 32833.7227 - mean_absolute_percentage_error: 15.9159 - val_loss: 25380.3223 - val_mean_absolute_percentage_error: 13.6836\n",
      "Epoch 20/100\n",
      "80/80 [==============================] - 2s 27ms/step - loss: 31926.7402 - mean_absolute_percentage_error: 15.6301 - val_loss: 26581.2871 - val_mean_absolute_percentage_error: 13.7294\n",
      "Epoch 21/100\n",
      "80/80 [==============================] - 2s 28ms/step - loss: 33199.6172 - mean_absolute_percentage_error: 16.0196 - val_loss: 24624.2852 - val_mean_absolute_percentage_error: 12.8057\n",
      "Epoch 22/100\n",
      "79/80 [============================>.] - ETA: 0s - loss: 32940.0938 - mean_absolute_percentage_error: 15.4386Restoring model weights from the end of the best epoch: 12.\n",
      "80/80 [==============================] - 2s 27ms/step - loss: 32573.3223 - mean_absolute_percentage_error: 15.3099 - val_loss: 27781.8945 - val_mean_absolute_percentage_error: 14.9176\n",
      "Epoch 22: early stopping\n"
     ]
    }
   ],
   "source": [
    "# Model fit with early stopping\n",
    "\n",
    "from tensorflow.keras.callbacks import EarlyStopping\n",
    "es = EarlyStopping(monitor='val_loss', verbose=1, patience=10, restore_best_weights=True)\n",
    "\n",
    "history = model.fit(X_train, y_train,\n",
    "            validation_split=0.2,\n",
    "            epochs=100, \n",
    "            batch_size=1,\n",
    "            callbacks=[es], verbose=1)"
   ]
  },
  {
   "cell_type": "code",
   "execution_count": 29,
   "id": "1550ec5d",
   "metadata": {},
   "outputs": [
    {
     "data": {
      "text/plain": [
       "[<matplotlib.lines.Line2D at 0x7f2efc4bb8e0>]"
      ]
     },
     "execution_count": 29,
     "metadata": {},
     "output_type": "execute_result"
    },
    {
     "data": {
      "image/png": "[encoded data removed]",
      "text/plain": [
       "<Figure size 432x288 with 1 Axes>"
      ]
     },
     "metadata": {
      "needs_background": "light"
     },
     "output_type": "display_data"
    }
   ],
   "source": [
    "# Comparassion between train and validate datasets\n",
    "\n",
    "import matplotlib.pyplot as plt\n",
    "plt.plot(history.history['mean_absolute_percentage_error'])\n",
    "plt.plot(history.history['val_mean_absolute_percentage_error'])"
   ]
  },
  {
   "cell_type": "code",
   "execution_count": 30,
   "id": "2f985aef",
   "metadata": {},
   "outputs": [
    {
     "name": "stdout",
     "output_type": "stream",
     "text": [
      "MAPE on the test set : 15 %\n"
     ]
    }
   ],
   "source": [
    "# Evaluation of test dataset\n",
    "\n",
    "res = model.evaluate(X_test, y_test, verbose=0)\n",
    "\n",
    "print(f'MAPE on the test set : {res[1]:.0f} %')"
   ]
  },
  {
   "cell_type": "code",
   "execution_count": 38,
   "id": "373ebb9a",
   "metadata": {},
   "outputs": [
    {
     "data": {
      "text/plain": [
       "array([[ 973.03754,  991.5562 ,  996.96814, ..., 1045.1881 , 1002.81683,\n",
       "         998.8114 ],\n",
       "       [ 989.45264, 1008.4366 , 1013.7899 , ..., 1062.8176 , 1019.8039 ,\n",
       "        1015.61176],\n",
       "       [1009.0633 , 1028.4756 , 1033.8903 , ..., 1083.8364 , 1040.037  ,\n",
       "        1035.6869 ],\n",
       "       ...,\n",
       "       [ 988.57745, 1007.5788 , 1012.8899 , ..., 1061.8834 , 1018.91693,\n",
       "        1014.6983 ],\n",
       "       [1006.33026, 1025.6849 , 1031.0929 , ..., 1080.9048 , 1037.2233 ,\n",
       "        1032.9097 ],\n",
       "       [ 994.02   , 1013.1489 , 1018.47485, ..., 1067.71   , 1024.5448 ,\n",
       "        1020.28894]], dtype=float32)"
      ]
     },
     "execution_count": 38,
     "metadata": {},
     "output_type": "execute_result"
    }
   ],
   "source": [
    "# Predict prices from X_test sample\n",
    "\n",
    "predict_valor = model.predict(X_test)\n",
    "predict_valor"
   ]
  },
  {
   "cell_type": "code",
   "execution_count": 39,
   "id": "8e799717",
   "metadata": {},
   "outputs": [
    {
     "data": {
      "text/plain": [
       "array([[ 842.  ,  838.5 ,  871.25, ..., 1374.75, 1392.5 , 1436.75],\n",
       "       [ 871.25,  903.  ,  912.5 , ..., 1436.75, 1560.25, 1549.25],\n",
       "       [ 934.  ,  901.  ,  936.5 , ...,  882.  ,  969.5 , 1051.  ],\n",
       "       ...,\n",
       "       [ 859.25,  906.75,  872.  , ...,  886.75,  832.25,  848.5 ],\n",
       "       [ 918.5 ,  890.75,  898.75, ...,  900.25,  928.75,  916.  ],\n",
       "       [ 879.5 ,  883.25,  854.75, ..., 1141.5 , 1183.75, 1369.5 ]])"
      ]
     },
     "execution_count": 39,
     "metadata": {},
     "output_type": "execute_result"
    }
   ],
   "source": [
    "# Checking y_test sample\n",
    "\n",
    "y_test"
   ]
  },
  {
   "cell_type": "code",
   "execution_count": 68,
   "id": "153ad706",
   "metadata": {},
   "outputs": [
    {
     "data": {
      "image/png": "[encoded data removed]",
      "text/plain": [
       "<Figure size 432x288 with 1 Axes>"
      ]
     },
     "metadata": {
      "needs_background": "light"
     },
     "output_type": "display_data"
    }
   ],
   "source": [
    "# Plot y_test and predict_valor and check model evaluation \n",
    "\n",
    "import matplotlib.pyplot as plt\n",
    "plt.plot(y_test[-1])\n",
    "plt.plot(predict_valor[-1])\n",
    "plt.show()"
   ]
  },
  {
   "cell_type": "code",
   "execution_count": 34,
   "id": "0577397c",
   "metadata": {},
   "outputs": [],
   "source": [
    "# Create a X_year_past sample \n",
    "\n",
    "X_year_past = df_soybean[-506:-253].drop(columns = 'Date').to_numpy().reshape(1,253,5)"
   ]
  },
  {
   "cell_type": "code",
   "execution_count": 35,
   "id": "7afea21f",
   "metadata": {},
   "outputs": [
    {
     "data": {
      "text/plain": [
       "array([[[   829.25,    855.75,    825.  ,    843.25, 146051.  ],\n",
       "        [   845.75,    864.75,    845.5 ,    862.5 , 123550.  ],\n",
       "        [   860.  ,    885.25,    858.25,    884.  , 137562.  ],\n",
       "        ...,\n",
       "        [  1424.  ,   1425.25,   1408.  ,   1417.75,  69409.  ],\n",
       "        [  1417.25,   1419.  ,   1390.5 ,   1392.25,  93486.  ],\n",
       "        [  1391.  ,   1418.25,   1390.  ,   1416.25,  86775.  ]]])"
      ]
     },
     "execution_count": 35,
     "metadata": {},
     "output_type": "execute_result"
    }
   ],
   "source": [
    "# Checking X_year_past array\n",
    "\n",
    "X_year_past"
   ]
  },
  {
   "cell_type": "code",
   "execution_count": 36,
   "id": "5008b757",
   "metadata": {},
   "outputs": [
    {
     "data": {
      "text/plain": [
       "array([[1268.9021, 1290.9808, 1300.445 , 1340.2972, 1356.9858, 1369.0511,\n",
       "        1365.8766, 1385.0286, 1370.447 , 1362.2018, 1306.6748, 1302.7599]],\n",
       "      dtype=float32)"
      ]
     },
     "execution_count": 36,
     "metadata": {},
     "output_type": "execute_result"
    }
   ],
   "source": [
    "# Predict soybean prices from last year from X_year_past array\n",
    "\n",
    "y_current_year = model.predict(X_year_past)\n",
    "y_current_year"
   ]
  },
  {
   "cell_type": "code",
   "execution_count": 62,
   "id": "777d1310",
   "metadata": {},
   "outputs": [
    {
     "data": {
      "text/plain": [
       "[Timestamp('2021-04-22 00:00:00'),\n",
       " Timestamp('2021-05-22 00:00:00'),\n",
       " Timestamp('2021-06-22 00:00:00'),\n",
       " Timestamp('2021-07-22 00:00:00'),\n",
       " Timestamp('2021-08-22 00:00:00'),\n",
       " Timestamp('2021-09-22 00:00:00'),\n",
       " Timestamp('2021-10-22 00:00:00'),\n",
       " Timestamp('2021-11-22 00:00:00'),\n",
       " Timestamp('2021-12-22 00:00:00'),\n",
       " Timestamp('2022-01-22 00:00:00'),\n",
       " Timestamp('2022-02-22 00:00:00'),\n",
       " Timestamp('2022-03-22 00:00:00')]"
      ]
     },
     "execution_count": 62,
     "metadata": {},
     "output_type": "execute_result"
    }
   ],
   "source": [
    "# Get all dates related to every predicted price from y_current_year\n",
    "\n",
    "from dateutil.relativedelta import relativedelta\n",
    "\n",
    "hist_soybean_df = zsf.history(start = '2000-09-15', end='2022-03-22')\n",
    "hist_soybean_df = hist_soybean_df.drop(columns=['Dividends','Stock Splits'])\n",
    "soybean_date = hist_soybean_df.reset_index(level=0)\n",
    "soybean_date = soybean_date['Date']\n",
    "date = soybean_date.iloc[-253]\n",
    "twelve_months = [date + relativedelta(months=+month) for month in range(1,13)]\n",
    "twelve_months"
   ]
  },
  {
   "cell_type": "code",
   "execution_count": 67,
   "id": "78f81e49",
   "metadata": {},
   "outputs": [
    {
     "data": {
      "text/plain": [
       "('2021/04/22', '2022/03/22')"
      ]
     },
     "execution_count": 67,
     "metadata": {},
     "output_type": "execute_result"
    }
   ],
   "source": [
    "# Create a list wich contains the related date from every price predicted on y_current_year\n",
    "\n",
    "from dateutil.relativedelta import relativedelta\n",
    "\n",
    "lista = []\n",
    "for month in twelve_months:\n",
    "    date_format = '%Y/%m/%d'\n",
    "    month_str = month.strftime(date_format)\n",
    "    lista.append(month_str)\n",
    "lista[0],lista[-1]"
   ]
  },
  {
   "cell_type": "code",
   "execution_count": 47,
   "id": "05d0150f",
   "metadata": {},
   "outputs": [
    {
     "data": {
      "text/plain": [
       "5159    1417.50\n",
       "5160    1423.25\n",
       "5161    1432.75\n",
       "5162    1414.25\n",
       "5163    1400.50\n",
       "         ...   \n",
       "5407    1658.75\n",
       "5408    1649.25\n",
       "5409    1668.50\n",
       "5410    1668.00\n",
       "5411    1691.00\n",
       "Name: Close, Length: 253, dtype: float64"
      ]
     },
     "execution_count": 47,
     "metadata": {},
     "output_type": "execute_result"
    }
   ],
   "source": [
    "# Create y_true_current_year sample\n",
    "\n",
    "y_true_current_year = df_soybean[-253:]['Close']\n",
    "y_true_current_year"
   ]
  },
  {
   "cell_type": "code",
   "execution_count": 64,
   "id": "1c0acb7a",
   "metadata": {},
   "outputs": [
    {
     "data": {
      "image/png": "[encoded data removed]",
      "text/plain": [
       "<Figure size 1080x360 with 2 Axes>"
      ]
     },
     "metadata": {
      "needs_background": "light"
     },
     "output_type": "display_data"
    }
   ],
   "source": [
    "# Comparassion between y_true_current_year and y_current_year\n",
    "\n",
    "import matplotlib.pyplot as plt\n",
    "\n",
    "plt.figure(figsize=(15, 5))\n",
    "plt.subplot(1, 2, 1)\n",
    "plt.plot(y_true_current_year)\n",
    "plt.ylim(ymin=1150,ymax=1750)\n",
    "plt.subplot(1, 2, 2)\n",
    "plt.plot(lista,y_current_year[0])\n",
    "plt.ylim(ymin=1150,ymax=1750)\n",
    "plt.show()"
   ]
  },
  {
   "cell_type": "code",
   "execution_count": null,
   "id": "9d81a8c8",
   "metadata": {},
   "outputs": [],
   "source": []
  },
  {
   "cell_type": "code",
   "execution_count": null,
   "id": "949c74b0",
   "metadata": {},
   "outputs": [],
   "source": []
  },
  {
   "cell_type": "code",
   "execution_count": null,
   "id": "a7921cef",
   "metadata": {},
   "outputs": [],
   "source": []
  },
  {
   "cell_type": "code",
   "execution_count": null,
   "id": "41814178",
   "metadata": {},
   "outputs": [],
   "source": []
  },
  {
   "cell_type": "code",
   "execution_count": null,
   "id": "72815822",
   "metadata": {},
   "outputs": [],
   "source": []
  },
  {
   "cell_type": "code",
   "execution_count": null,
   "id": "4fd1feb2",
   "metadata": {},
   "outputs": [],
   "source": [
    "# Checking conection with API and retrieve predicted values\n",
    "\n",
    "import requests\n",
    "url = requests.get(\"https://soybean-predict-price-project-ts7i4cg3ha-ew.a.run.app/predict\").json()\n",
    "url"
   ]
  },
  {
   "cell_type": "code",
   "execution_count": null,
   "id": "06e871b2",
   "metadata": {},
   "outputs": [],
   "source": []
  },
  {
   "cell_type": "code",
   "execution_count": null,
   "id": "0d1fcc10",
   "metadata": {},
   "outputs": [],
   "source": []
  },
  {
   "cell_type": "code",
   "execution_count": null,
   "id": "525db58d",
   "metadata": {},
   "outputs": [],
   "source": []
  },
  {
   "cell_type": "code",
   "execution_count": null,
   "id": "010f470e",
   "metadata": {},
   "outputs": [],
   "source": []
  },
  {
   "cell_type": "code",
   "execution_count": null,
   "id": "3c1ed5e7",
   "metadata": {},
   "outputs": [],
   "source": []
  },
  {
   "cell_type": "code",
   "execution_count": null,
   "id": "7a339de6",
   "metadata": {},
   "outputs": [],
   "source": [
    "# Brazilian soybean monthly production dataset\n",
    "\n",
    "df = pd.read_csv('../raw_data/IBGE_Soja_mensal_completo.csv', index_col = 0, parse_dates=['Mes-Ano'])\n",
    "df"
   ]
  },
  {
   "cell_type": "code",
   "execution_count": null,
   "id": "ceee8007",
   "metadata": {},
   "outputs": [],
   "source": [
    "df.info()"
   ]
  },
  {
   "cell_type": "code",
   "execution_count": null,
   "id": "dd3c8bf9",
   "metadata": {
    "scrolled": true
   },
   "outputs": [],
   "source": [
    "# Creating a daily datetime column\n",
    "\n",
    "lista_dias = pd.date_range(df['Mes-Ano'].values[0],df['Mes-Ano'].values[-1])\n",
    "lista_dias"
   ]
  },
  {
   "cell_type": "code",
   "execution_count": null,
   "id": "9b76c536",
   "metadata": {},
   "outputs": [],
   "source": [
    "#Creating a daily datetime dataframe\n",
    "\n",
    "lista_dias_df = pd.DataFrame(lista_dias, columns=['Dia'])\n",
    "lista_dias_df"
   ]
  },
  {
   "cell_type": "code",
   "execution_count": null,
   "id": "e13be9a1",
   "metadata": {},
   "outputs": [],
   "source": [
    "#Creating a month column according to the related day\n",
    "\n",
    "lista_dias_df['Mes-Ano'] = lista_dias_df['Dia'].apply(lambda data: pd.to_datetime(f'{data.month}-{data.year}'))"
   ]
  },
  {
   "cell_type": "code",
   "execution_count": null,
   "id": "8ae0825a",
   "metadata": {},
   "outputs": [],
   "source": [
    "lista_dias_df"
   ]
  },
  {
   "cell_type": "code",
   "execution_count": null,
   "id": "63a2789c",
   "metadata": {},
   "outputs": [],
   "source": [
    "# Merging brazilian soybean production dataset with daily dataset\n",
    "# Rename 'Dia' column by \"Date\"\n",
    "# Drop columns 'Área plantada (Hectares)', 'Área colhida (Hectares)' and 'Rendimento médio (Quilogramas por Hectare)'\n",
    "\n",
    "novo_df = df.merge(lista_dias_df,on='Mes-Ano')\n",
    "novo_df.rename(columns = {'Dia':'Date','Produção (Toneladas)':'Expectativa Produção Safra Anual (Ton)'}, inplace = True)\n",
    "novo_df.drop(columns=['Área plantada (Hectares)','Área colhida (Hectares)','Rendimento médio (Quilogramas por Hectare)'], inplace=True)\n",
    "novo_df"
   ]
  },
  {
   "cell_type": "code",
   "execution_count": null,
   "id": "02272446",
   "metadata": {},
   "outputs": [],
   "source": [
    "# Removing datetime index on soybean daily price dataset \n",
    "\n",
    "hist_F = hist_soybean_df.reset_index()\n",
    "hist_F"
   ]
  },
  {
   "cell_type": "code",
   "execution_count": null,
   "id": "8c64e2bc",
   "metadata": {},
   "outputs": [],
   "source": [
    "# Merging brazilian soybean production dataset with soybean daily price dataset\n",
    "\n",
    "df_preco_producao_BR = pd.merge(novo_df, hist_F,how = 'left', on = 'Date')\n",
    "df_preco_producao_BR.tail(100)"
   ]
  },
  {
   "cell_type": "code",
   "execution_count": null,
   "id": "4446c967",
   "metadata": {},
   "outputs": [],
   "source": []
  }
 ],
 "metadata": {
  "kernelspec": {
   "display_name": "Python 3 (ipykernel)",
   "language": "python",
   "name": "python3"
  },
  "language_info": {
   "codemirror_mode": {
    "name": "ipython",
    "version": 3
   },
   "file_extension": ".py",
   "mimetype": "text/x-python",
   "name": "python",
   "nbconvert_exporter": "python",
   "pygments_lexer": "ipython3",
   "version": "3.8.12"
  },
  "toc": {
   "base_numbering": 1,
   "nav_menu": {
    "height": "206px",
    "width": "160px"
   },
   "number_sections": true,
   "sideBar": true,
   "skip_h1_title": false,
   "title_cell": "Table of Contents",
   "title_sidebar": "Contents",
   "toc_cell": false,
   "toc_position": {},
   "toc_section_display": true,
   "toc_window_display": false
  }
 },
 "nbformat": 4,
 "nbformat_minor": 5
}
