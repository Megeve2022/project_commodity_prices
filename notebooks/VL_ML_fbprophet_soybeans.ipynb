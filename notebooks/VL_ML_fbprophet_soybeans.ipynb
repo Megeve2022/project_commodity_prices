{
 "cells": [
  {
   "cell_type": "markdown",
   "id": "c25670d9",
   "metadata": {},
   "source": [
    "Time Series Analisys for Soybean"
   ]
  },
  {
   "cell_type": "code",
   "execution_count": 282,
   "id": "397e3823",
   "metadata": {},
   "outputs": [],
   "source": [
    "import pandas as pd\n",
    "import numpy as np\n",
    "import matplotlib.pyplot as plt\n",
    "import seaborn as sns\n",
    "import yfinance as yf\n",
    "\n",
    "from sklearn.linear_model import LinearRegression\n",
    "\n",
    "from statsmodels.tsa.seasonal import seasonal_decompose"
   ]
  },
  {
   "cell_type": "code",
   "execution_count": 283,
   "id": "fc750347",
   "metadata": {},
   "outputs": [],
   "source": [
    "# Variables of soybeans and soy sub-products\n",
    "# soyMeal = yf.Ticker('ZM=F')\n",
    "# soyOil = yf.Ticker('ZL=F')\n",
    "soybean = yf.Ticker('ZS=F')\n",
    "\n",
    "# soyMeal = soyMeal.history(period=\"max\")\n",
    "# soyOil = soyOil.history(period=\"max\")\n",
    "soybean = soybean.history(period=\"ytd\")\n",
    "\n",
    "# Lists I use for manipulating the dataframe for each commodity\n",
    "commodities = [soybean]\n",
    "commodityName = ['soybean']\n",
    "\n"
   ]
  },
  {
   "cell_type": "code",
   "execution_count": 284,
   "id": "c771ada8",
   "metadata": {},
   "outputs": [],
   "source": [
    "# Drop all columns except date and close price, rename close price to name of the commodity\n",
    "col2drop = ['Open', 'High', 'Low', 'Volume', 'Dividends', 'Stock Splits']\n",
    "count = 0\n",
    "\n",
    "for i in commodities:\n",
    "    i.drop(columns = col2drop, axis = 0, inplace = True)\n",
    "    i.columns = [commodityName[count]]\n",
    "    count += 1"
   ]
  },
  {
   "cell_type": "code",
   "execution_count": 286,
   "id": "e68f9a63",
   "metadata": {},
   "outputs": [
    {
     "data": {
      "text/html": [
       "<div>\n",
       "<style scoped>\n",
       "    .dataframe tbody tr th:only-of-type {\n",
       "        vertical-align: middle;\n",
       "    }\n",
       "\n",
       "    .dataframe tbody tr th {\n",
       "        vertical-align: top;\n",
       "    }\n",
       "\n",
       "    .dataframe thead th {\n",
       "        text-align: right;\n",
       "    }\n",
       "</style>\n",
       "<table border=\"1\" class=\"dataframe\">\n",
       "  <thead>\n",
       "    <tr style=\"text-align: right;\">\n",
       "      <th></th>\n",
       "      <th>soybean</th>\n",
       "    </tr>\n",
       "    <tr>\n",
       "      <th>Date</th>\n",
       "      <th></th>\n",
       "    </tr>\n",
       "  </thead>\n",
       "  <tbody>\n",
       "    <tr>\n",
       "      <th>2022-01-03</th>\n",
       "      <td>1344.00</td>\n",
       "    </tr>\n",
       "    <tr>\n",
       "      <th>2022-01-04</th>\n",
       "      <td>1378.75</td>\n",
       "    </tr>\n",
       "    <tr>\n",
       "      <th>2022-01-05</th>\n",
       "      <td>1384.25</td>\n",
       "    </tr>\n",
       "    <tr>\n",
       "      <th>2022-01-06</th>\n",
       "      <td>1377.25</td>\n",
       "    </tr>\n",
       "    <tr>\n",
       "      <th>2022-01-07</th>\n",
       "      <td>1401.50</td>\n",
       "    </tr>\n",
       "  </tbody>\n",
       "</table>\n",
       "</div>"
      ],
      "text/plain": [
       "            soybean\n",
       "Date               \n",
       "2022-01-03  1344.00\n",
       "2022-01-04  1378.75\n",
       "2022-01-05  1384.25\n",
       "2022-01-06  1377.25\n",
       "2022-01-07  1401.50"
      ]
     },
     "execution_count": 286,
     "metadata": {},
     "output_type": "execute_result"
    }
   ],
   "source": [
    "# Join all data frames into one\n",
    "df = pd.concat(commodities, join='outer', axis=1)\n",
    "\n",
    "# Some prices are missing for things like holidays, use forward fill to make the missing values the same as the previous\n",
    "df.ffill()\n",
    "df.dropna()\n",
    "df.head()"
   ]
  },
  {
   "cell_type": "code",
   "execution_count": 7,
   "id": "7af8c956",
   "metadata": {},
   "outputs": [
    {
     "data": {
      "image/png": "[encoded data removed]",
      "text/plain": [
       "<Figure size 432x288 with 1 Axes>"
      ]
     },
     "metadata": {
      "needs_background": "light"
     },
     "output_type": "display_data"
    }
   ],
   "source": [
    "plt.plot(df);"
   ]
  },
  {
   "cell_type": "code",
   "execution_count": 8,
   "id": "79057067",
   "metadata": {},
   "outputs": [],
   "source": [
    "y = df.values"
   ]
  },
  {
   "cell_type": "code",
   "execution_count": 289,
   "id": "3db3c658",
   "metadata": {},
   "outputs": [
    {
     "name": "stdout",
     "output_type": "stream",
     "text": [
      "Collecting pystan==2.19.1.1\n",
      "  Using cached pystan-2.19.1.1-cp38-cp38-macosx_10_9_x86_64.whl (37.4 MB)\n",
      "Requirement already satisfied: numpy>=1.7 in /Users/vanessalieberg/.pyenv/versions/3.8.12/envs/project_commodity_prices/lib/python3.8/site-packages (from pystan==2.19.1.1) (1.22.3)\n",
      "Requirement already satisfied: Cython!=0.25.1,>=0.22 in /Users/vanessalieberg/.pyenv/versions/3.8.12/envs/project_commodity_prices/lib/python3.8/site-packages (from pystan==2.19.1.1) (0.29.28)\n",
      "Installing collected packages: pystan\n",
      "Successfully installed pystan-2.19.1.1\n",
      "\u001b[33mWARNING: You are using pip version 21.1.1; however, version 22.0.4 is available.\n",
      "You should consider upgrading via the '/Users/vanessalieberg/.pyenv/versions/3.8.12/envs/project_commodity_prices/bin/python -m pip install --upgrade pip' command.\u001b[0m\n",
      "Collecting prophet\n",
      "  Downloading prophet-1.0.1.tar.gz (65 kB)\n",
      "\u001b[K     |████████████████████████████████| 65 kB 278 kB/s eta 0:00:01\n",
      "\u001b[?25hRequirement already satisfied: Cython>=0.22 in /Users/vanessalieberg/.pyenv/versions/3.8.12/envs/project_commodity_prices/lib/python3.8/site-packages (from prophet) (0.29.28)\n",
      "Collecting cmdstanpy==0.9.68\n",
      "  Downloading cmdstanpy-0.9.68-py3-none-any.whl (49 kB)\n",
      "\u001b[K     |████████████████████████████████| 49 kB 1.6 MB/s eta 0:00:01\n",
      "\u001b[?25hRequirement already satisfied: pystan~=2.19.1.1 in /Users/vanessalieberg/.pyenv/versions/3.8.12/envs/project_commodity_prices/lib/python3.8/site-packages (from prophet) (2.19.1.1)\n",
      "Requirement already satisfied: numpy>=1.15.4 in /Users/vanessalieberg/.pyenv/versions/3.8.12/envs/project_commodity_prices/lib/python3.8/site-packages (from prophet) (1.22.3)\n",
      "Requirement already satisfied: pandas>=1.0.4 in /Users/vanessalieberg/.pyenv/versions/3.8.12/envs/project_commodity_prices/lib/python3.8/site-packages (from prophet) (1.4.1)\n",
      "Requirement already satisfied: matplotlib>=2.0.0 in /Users/vanessalieberg/.pyenv/versions/3.8.12/envs/project_commodity_prices/lib/python3.8/site-packages (from prophet) (3.5.1)\n",
      "Collecting LunarCalendar>=0.0.9\n",
      "  Using cached LunarCalendar-0.0.9-py2.py3-none-any.whl (18 kB)\n",
      "Collecting convertdate>=2.1.2\n",
      "  Downloading convertdate-2.4.0-py3-none-any.whl (47 kB)\n",
      "\u001b[K     |████████████████████████████████| 47 kB 3.8 MB/s eta 0:00:01\n",
      "\u001b[?25hCollecting holidays>=0.10.2\n",
      "  Downloading holidays-0.13-py3-none-any.whl (172 kB)\n",
      "\u001b[K     |████████████████████████████████| 172 kB 4.4 MB/s eta 0:00:01\n",
      "\u001b[?25hCollecting setuptools-git>=1.2\n",
      "  Using cached setuptools_git-1.2-py2.py3-none-any.whl (10 kB)\n",
      "Requirement already satisfied: python-dateutil>=2.8.0 in /Users/vanessalieberg/.pyenv/versions/3.8.12/envs/project_commodity_prices/lib/python3.8/site-packages (from prophet) (2.8.2)\n",
      "Collecting tqdm>=4.36.1\n",
      "  Downloading tqdm-4.63.0-py2.py3-none-any.whl (76 kB)\n",
      "\u001b[K     |████████████████████████████████| 76 kB 5.9 MB/s eta 0:00:01\n",
      "\u001b[?25hCollecting ujson\n",
      "  Downloading ujson-5.1.0-cp38-cp38-macosx_10_9_x86_64.whl (46 kB)\n",
      "\u001b[K     |████████████████████████████████| 46 kB 6.4 MB/s eta 0:00:01\n",
      "\u001b[?25hCollecting pymeeus<=1,>=0.3.13\n",
      "  Using cached PyMeeus-0.5.11.tar.gz (5.4 MB)\n",
      "Collecting hijri-converter\n",
      "  Downloading hijri_converter-2.2.3-py3-none-any.whl (14 kB)\n",
      "Collecting korean-lunar-calendar\n",
      "  Using cached korean_lunar_calendar-0.2.1-py3-none-any.whl (8.0 kB)\n",
      "Requirement already satisfied: pytz in /Users/vanessalieberg/.pyenv/versions/3.8.12/envs/project_commodity_prices/lib/python3.8/site-packages (from LunarCalendar>=0.0.9->prophet) (2021.3)\n",
      "Collecting ephem>=3.7.5.3\n",
      "  Using cached ephem-4.1.3-cp38-cp38-macosx_10_9_x86_64.whl (1.4 MB)\n",
      "Requirement already satisfied: cycler>=0.10 in /Users/vanessalieberg/.pyenv/versions/3.8.12/envs/project_commodity_prices/lib/python3.8/site-packages (from matplotlib>=2.0.0->prophet) (0.11.0)\n",
      "Requirement already satisfied: kiwisolver>=1.0.1 in /Users/vanessalieberg/.pyenv/versions/3.8.12/envs/project_commodity_prices/lib/python3.8/site-packages (from matplotlib>=2.0.0->prophet) (1.4.0)\n",
      "Requirement already satisfied: pillow>=6.2.0 in /Users/vanessalieberg/.pyenv/versions/3.8.12/envs/project_commodity_prices/lib/python3.8/site-packages (from matplotlib>=2.0.0->prophet) (9.0.1)\n",
      "Requirement already satisfied: pyparsing>=2.2.1 in /Users/vanessalieberg/.pyenv/versions/3.8.12/envs/project_commodity_prices/lib/python3.8/site-packages (from matplotlib>=2.0.0->prophet) (3.0.7)\n",
      "Requirement already satisfied: packaging>=20.0 in /Users/vanessalieberg/.pyenv/versions/3.8.12/envs/project_commodity_prices/lib/python3.8/site-packages (from matplotlib>=2.0.0->prophet) (21.3)\n",
      "Requirement already satisfied: fonttools>=4.22.0 in /Users/vanessalieberg/.pyenv/versions/3.8.12/envs/project_commodity_prices/lib/python3.8/site-packages (from matplotlib>=2.0.0->prophet) (4.30.0)\n",
      "Requirement already satisfied: six>=1.5 in /Users/vanessalieberg/.pyenv/versions/3.8.12/envs/project_commodity_prices/lib/python3.8/site-packages (from python-dateutil>=2.8.0->prophet) (1.16.0)\n",
      "Using legacy 'setup.py install' for prophet, since package 'wheel' is not installed.\n",
      "Using legacy 'setup.py install' for pymeeus, since package 'wheel' is not installed.\n",
      "Installing collected packages: pymeeus, ujson, korean-lunar-calendar, hijri-converter, ephem, convertdate, tqdm, setuptools-git, LunarCalendar, holidays, cmdstanpy, prophet\n",
      "    Running setup.py install for pymeeus ... \u001b[?25ldone\n",
      "\u001b[?25h    Running setup.py install for prophet ... \u001b[?25ldone\n",
      "\u001b[?25hSuccessfully installed LunarCalendar-0.0.9 cmdstanpy-0.9.68 convertdate-2.4.0 ephem-4.1.3 hijri-converter-2.2.3 holidays-0.13 korean-lunar-calendar-0.2.1 prophet-1.0.1 pymeeus-0.5.11 setuptools-git-1.2 tqdm-4.63.0 ujson-5.1.0\n",
      "\u001b[33mWARNING: You are using pip version 21.1.1; however, version 22.0.4 is available.\n",
      "You should consider upgrading via the '/Users/vanessalieberg/.pyenv/versions/3.8.12/envs/project_commodity_prices/bin/python -m pip install --upgrade pip' command.\u001b[0m\n"
     ]
    }
   ],
   "source": [
    "! pip install pystan==2.19.1.1\n",
    "\n",
    "! pip install prophet"
   ]
  },
  {
   "cell_type": "code",
   "execution_count": 292,
   "id": "c194e8bd",
   "metadata": {},
   "outputs": [
    {
     "ename": "ModuleNotFoundError",
     "evalue": "No module named 'fbprophet'",
     "output_type": "error",
     "traceback": [
      "\u001b[0;31m---------------------------------------------------------------------------\u001b[0m",
      "\u001b[0;31mModuleNotFoundError\u001b[0m                       Traceback (most recent call last)",
      "Input \u001b[0;32mIn [292]\u001b[0m, in \u001b[0;36m<cell line: 1>\u001b[0;34m()\u001b[0m\n\u001b[0;32m----> 1\u001b[0m \u001b[38;5;28;01mfrom\u001b[39;00m \u001b[38;5;21;01mfbprophet\u001b[39;00m \u001b[38;5;28;01mimport\u001b[39;00m Prophet\n",
      "\u001b[0;31mModuleNotFoundError\u001b[0m: No module named 'fbprophet'"
     ]
    }
   ],
   "source": [
    "from fbprophet import Prophet"
   ]
  },
  {
   "cell_type": "code",
   "execution_count": 293,
   "id": "908f5810",
   "metadata": {},
   "outputs": [
    {
     "ename": "NameError",
     "evalue": "name 'Prophet' is not defined",
     "output_type": "error",
     "traceback": [
      "\u001b[0;31m---------------------------------------------------------------------------\u001b[0m",
      "\u001b[0;31mNameError\u001b[0m                                 Traceback (most recent call last)",
      "Input \u001b[0;32mIn [293]\u001b[0m, in \u001b[0;36m<cell line: 4>\u001b[0;34m()\u001b[0m\n\u001b[1;32m      1\u001b[0m train \u001b[38;5;241m=\u001b[39m df\u001b[38;5;241m.\u001b[39miloc[\u001b[38;5;241m0\u001b[39m:\u001b[38;5;241m3780\u001b[39m]\n\u001b[1;32m      2\u001b[0m test \u001b[38;5;241m=\u001b[39m df\u001b[38;5;241m.\u001b[39miloc[\u001b[38;5;241m3780\u001b[39m:]\n\u001b[0;32m----> 4\u001b[0m model \u001b[38;5;241m=\u001b[39m \u001b[43mProphet\u001b[49m(seasonality_mode\u001b[38;5;241m=\u001b[39m\u001b[38;5;124m'\u001b[39m\u001b[38;5;124mmultiplicative\u001b[39m\u001b[38;5;124m'\u001b[39m)\n\u001b[1;32m      6\u001b[0m model\u001b[38;5;241m.\u001b[39mfit(train)\n",
      "\u001b[0;31mNameError\u001b[0m: name 'Prophet' is not defined"
     ]
    }
   ],
   "source": [
    "\n",
    "train = df.iloc[0:3780]\n",
    "test = df.iloc[3780:]\n",
    "\n",
    "model = Prophet(seasonality_mode='multiplicative')\n",
    "\n",
    "model.fit(train)"
   ]
  },
  {
   "cell_type": "code",
   "execution_count": null,
   "id": "7057cb3e",
   "metadata": {},
   "outputs": [],
   "source": []
  },
  {
   "cell_type": "code",
   "execution_count": null,
   "id": "f4faabb2",
   "metadata": {},
   "outputs": [],
   "source": []
  },
  {
   "cell_type": "code",
   "execution_count": null,
   "id": "9d409e96",
   "metadata": {},
   "outputs": [],
   "source": []
  },
  {
   "cell_type": "code",
   "execution_count": null,
   "id": "cceba0c4",
   "metadata": {},
   "outputs": [],
   "source": []
  },
  {
   "cell_type": "code",
   "execution_count": null,
   "id": "6dbeb056",
   "metadata": {},
   "outputs": [],
   "source": []
  },
  {
   "cell_type": "code",
   "execution_count": null,
   "id": "f57c6fc6",
   "metadata": {},
   "outputs": [],
   "source": []
  }
 ],
 "metadata": {
  "kernelspec": {
   "display_name": "Python 3 (ipykernel)",
   "language": "python",
   "name": "python3"
  },
  "language_info": {
   "codemirror_mode": {
    "name": "ipython",
    "version": 3
   },
   "file_extension": ".py",
   "mimetype": "text/x-python",
   "name": "python",
   "nbconvert_exporter": "python",
   "pygments_lexer": "ipython3",
   "version": "3.8.12"
  },
  "toc": {
   "base_numbering": 1,
   "nav_menu": {},
   "number_sections": true,
   "sideBar": true,
   "skip_h1_title": false,
   "title_cell": "Table of Contents",
   "title_sidebar": "Contents",
   "toc_cell": false,
   "toc_position": {},
   "toc_section_display": true,
   "toc_window_display": false
  }
 },
 "nbformat": 4,
 "nbformat_minor": 5
}
