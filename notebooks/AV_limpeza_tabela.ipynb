{
 "cells": [
  {
   "cell_type": "code",
   "execution_count": 14,
   "id": "03d6effd",
   "metadata": {},
   "outputs": [],
   "source": [
    "import pandas as pd\n",
    "import matplotlib.pyplot as plt\n",
    "import seaborn as sns\n",
    "import numpy as np\n",
    "import yfinance as yf"
   ]
  },
  {
   "cell_type": "code",
   "execution_count": null,
   "id": "c2a4eec8",
   "metadata": {},
   "outputs": [],
   "source": [
    "# data = pd.read_csv('../raw_data/ourworldindata_soybean-production.csv')"
   ]
  },
  {
   "cell_type": "code",
   "execution_count": null,
   "id": "019a9759",
   "metadata": {},
   "outputs": [],
   "source": [
    "# pivoted_data = data.pivot(index = 'Year', columns = 'Entity', values = 'Crops - Soybeans - 236 - Production - 5510 - tonnes')"
   ]
  },
  {
   "cell_type": "code",
   "execution_count": null,
   "id": "75b18990",
   "metadata": {},
   "outputs": [],
   "source": [
    "# pivoted_data"
   ]
  },
  {
   "cell_type": "code",
   "execution_count": null,
   "id": "dae137c5",
   "metadata": {},
   "outputs": [],
   "source": []
  },
  {
   "cell_type": "code",
   "execution_count": null,
   "id": "74c0edb4",
   "metadata": {},
   "outputs": [],
   "source": [
    "# data = pd.read_csv('../raw_data/PDB_LV_21032022152638061.csv')"
   ]
  },
  {
   "cell_type": "code",
   "execution_count": null,
   "id": "f6b64812",
   "metadata": {},
   "outputs": [],
   "source": [
    "# data"
   ]
  },
  {
   "cell_type": "code",
   "execution_count": null,
   "id": "eb962bee",
   "metadata": {},
   "outputs": [],
   "source": [
    "# data = data[data['Subject'] == 'Gross Domestic Product (GDP); millions']"
   ]
  },
  {
   "cell_type": "code",
   "execution_count": null,
   "id": "582d722b",
   "metadata": {},
   "outputs": [],
   "source": [
    "# data.pivot_table(index=['Country', 'Time'], columns='Subject', values = 'Value')"
   ]
  },
  {
   "cell_type": "code",
   "execution_count": null,
   "id": "78fa2b97",
   "metadata": {},
   "outputs": [],
   "source": [
    "# pivoted_data = data.pivot(index = 'Year', columns = 'Entity', values = 'Crops - Soybeans - 236 - Production - 5510 - tonnes')\n",
    "\n",
    "\n"
   ]
  },
  {
   "cell_type": "code",
   "execution_count": null,
   "id": "a82bd66b",
   "metadata": {},
   "outputs": [],
   "source": [
    "# pivoted_data"
   ]
  },
  {
   "cell_type": "code",
   "execution_count": null,
   "id": "20292ddb",
   "metadata": {},
   "outputs": [],
   "source": [
    "# data = pd.read_csv('../raw_data/gdp.csv')"
   ]
  },
  {
   "cell_type": "code",
   "execution_count": null,
   "id": "4a7fb64b",
   "metadata": {},
   "outputs": [],
   "source": [
    "# data.pivot(index='Year', columns='Country Name', values = 'Value')"
   ]
  },
  {
   "cell_type": "code",
   "execution_count": null,
   "id": "88480441",
   "metadata": {},
   "outputs": [],
   "source": []
  },
  {
   "cell_type": "code",
   "execution_count": 9,
   "id": "ad523f5c",
   "metadata": {},
   "outputs": [],
   "source": [
    "data = pd.read_csv('../raw_data/Dataset_FAS.csv')\n",
    "data = data.replace(np.nan, 0)\n",
    "data = data.drop(columns = 'Unnamed: 0')"
   ]
  },
  {
   "cell_type": "code",
   "execution_count": 15,
   "id": "617464c7",
   "metadata": {},
   "outputs": [],
   "source": [
    "soybean = yf.Ticker('ZS=F')"
   ]
  },
  {
   "cell_type": "code",
   "execution_count": 38,
   "id": "7e4d67c6",
   "metadata": {},
   "outputs": [
    {
     "data": {
      "text/html": [
       "<div>\n",
       "<style scoped>\n",
       "    .dataframe tbody tr th:only-of-type {\n",
       "        vertical-align: middle;\n",
       "    }\n",
       "\n",
       "    .dataframe tbody tr th {\n",
       "        vertical-align: top;\n",
       "    }\n",
       "\n",
       "    .dataframe thead th {\n",
       "        text-align: right;\n",
       "    }\n",
       "</style>\n",
       "<table border=\"1\" class=\"dataframe\">\n",
       "  <thead>\n",
       "    <tr style=\"text-align: right;\">\n",
       "      <th></th>\n",
       "      <th>Open</th>\n",
       "      <th>High</th>\n",
       "      <th>Low</th>\n",
       "      <th>Close</th>\n",
       "      <th>Volume</th>\n",
       "      <th>Dividends</th>\n",
       "      <th>Stock Splits</th>\n",
       "      <th>Year</th>\n",
       "    </tr>\n",
       "    <tr>\n",
       "      <th>Date</th>\n",
       "      <th></th>\n",
       "      <th></th>\n",
       "      <th></th>\n",
       "      <th></th>\n",
       "      <th></th>\n",
       "      <th></th>\n",
       "      <th></th>\n",
       "      <th></th>\n",
       "    </tr>\n",
       "  </thead>\n",
       "  <tbody>\n",
       "    <tr>\n",
       "      <th>2000-11-01</th>\n",
       "      <td>459.50</td>\n",
       "      <td>508.00</td>\n",
       "      <td>459.00</td>\n",
       "      <td>502.00</td>\n",
       "      <td>4262</td>\n",
       "      <td>0</td>\n",
       "      <td>0</td>\n",
       "      <td>2000</td>\n",
       "    </tr>\n",
       "    <tr>\n",
       "      <th>2000-12-01</th>\n",
       "      <td>506.50</td>\n",
       "      <td>513.75</td>\n",
       "      <td>497.50</td>\n",
       "      <td>499.00</td>\n",
       "      <td>31784</td>\n",
       "      <td>0</td>\n",
       "      <td>0</td>\n",
       "      <td>2000</td>\n",
       "    </tr>\n",
       "    <tr>\n",
       "      <th>2001-01-01</th>\n",
       "      <td>500.00</td>\n",
       "      <td>500.50</td>\n",
       "      <td>457.75</td>\n",
       "      <td>459.75</td>\n",
       "      <td>4258</td>\n",
       "      <td>0</td>\n",
       "      <td>0</td>\n",
       "      <td>2001</td>\n",
       "    </tr>\n",
       "    <tr>\n",
       "      <th>2001-02-01</th>\n",
       "      <td>459.00</td>\n",
       "      <td>468.50</td>\n",
       "      <td>447.00</td>\n",
       "      <td>454.75</td>\n",
       "      <td>26157</td>\n",
       "      <td>0</td>\n",
       "      <td>0</td>\n",
       "      <td>2001</td>\n",
       "    </tr>\n",
       "    <tr>\n",
       "      <th>2001-03-01</th>\n",
       "      <td>453.00</td>\n",
       "      <td>463.50</td>\n",
       "      <td>434.50</td>\n",
       "      <td>436.00</td>\n",
       "      <td>8461</td>\n",
       "      <td>0</td>\n",
       "      <td>0</td>\n",
       "      <td>2001</td>\n",
       "    </tr>\n",
       "    <tr>\n",
       "      <th>...</th>\n",
       "      <td>...</td>\n",
       "      <td>...</td>\n",
       "      <td>...</td>\n",
       "      <td>...</td>\n",
       "      <td>...</td>\n",
       "      <td>...</td>\n",
       "      <td>...</td>\n",
       "      <td>...</td>\n",
       "    </tr>\n",
       "    <tr>\n",
       "      <th>2021-12-01</th>\n",
       "      <td>1222.00</td>\n",
       "      <td>1375.75</td>\n",
       "      <td>1216.25</td>\n",
       "      <td>1328.75</td>\n",
       "      <td>1887212</td>\n",
       "      <td>0</td>\n",
       "      <td>0</td>\n",
       "      <td>2021</td>\n",
       "    </tr>\n",
       "    <tr>\n",
       "      <th>2022-01-01</th>\n",
       "      <td>1340.25</td>\n",
       "      <td>1496.75</td>\n",
       "      <td>1332.00</td>\n",
       "      <td>1490.50</td>\n",
       "      <td>1367807</td>\n",
       "      <td>0</td>\n",
       "      <td>0</td>\n",
       "      <td>2022</td>\n",
       "    </tr>\n",
       "    <tr>\n",
       "      <th>2022-02-01</th>\n",
       "      <td>1490.00</td>\n",
       "      <td>1765.00</td>\n",
       "      <td>1485.00</td>\n",
       "      <td>1644.25</td>\n",
       "      <td>2479863</td>\n",
       "      <td>0</td>\n",
       "      <td>0</td>\n",
       "      <td>2022</td>\n",
       "    </tr>\n",
       "    <tr>\n",
       "      <th>2022-03-01</th>\n",
       "      <td>1648.25</td>\n",
       "      <td>1745.25</td>\n",
       "      <td>1638.00</td>\n",
       "      <td>1691.00</td>\n",
       "      <td>424003</td>\n",
       "      <td>0</td>\n",
       "      <td>0</td>\n",
       "      <td>2022</td>\n",
       "    </tr>\n",
       "    <tr>\n",
       "      <th>2022-03-22</th>\n",
       "      <td>1692.75</td>\n",
       "      <td>1720.75</td>\n",
       "      <td>1686.00</td>\n",
       "      <td>1694.00</td>\n",
       "      <td>52676</td>\n",
       "      <td>0</td>\n",
       "      <td>0</td>\n",
       "      <td>2022</td>\n",
       "    </tr>\n",
       "  </tbody>\n",
       "</table>\n",
       "<p>221 rows × 8 columns</p>\n",
       "</div>"
      ],
      "text/plain": [
       "               Open     High      Low    Close   Volume  Dividends  \\\n",
       "Date                                                                 \n",
       "2000-11-01   459.50   508.00   459.00   502.00     4262          0   \n",
       "2000-12-01   506.50   513.75   497.50   499.00    31784          0   \n",
       "2001-01-01   500.00   500.50   457.75   459.75     4258          0   \n",
       "2001-02-01   459.00   468.50   447.00   454.75    26157          0   \n",
       "2001-03-01   453.00   463.50   434.50   436.00     8461          0   \n",
       "...             ...      ...      ...      ...      ...        ...   \n",
       "2021-12-01  1222.00  1375.75  1216.25  1328.75  1887212          0   \n",
       "2022-01-01  1340.25  1496.75  1332.00  1490.50  1367807          0   \n",
       "2022-02-01  1490.00  1765.00  1485.00  1644.25  2479863          0   \n",
       "2022-03-01  1648.25  1745.25  1638.00  1691.00   424003          0   \n",
       "2022-03-22  1692.75  1720.75  1686.00  1694.00    52676          0   \n",
       "\n",
       "            Stock Splits  Year  \n",
       "Date                            \n",
       "2000-11-01             0  2000  \n",
       "2000-12-01             0  2000  \n",
       "2001-01-01             0  2001  \n",
       "2001-02-01             0  2001  \n",
       "2001-03-01             0  2001  \n",
       "...                  ...   ...  \n",
       "2021-12-01             0  2021  \n",
       "2022-01-01             0  2022  \n",
       "2022-02-01             0  2022  \n",
       "2022-03-01             0  2022  \n",
       "2022-03-22             0  2022  \n",
       "\n",
       "[221 rows x 8 columns]"
      ]
     },
     "execution_count": 38,
     "metadata": {},
     "output_type": "execute_result"
    }
   ],
   "source": [
    "m_history = soybean.history(period='max', interval='1mo')\n",
    "m_history['Year'] = m_history.index.year\n",
    "m_history"
   ]
  },
  {
   "cell_type": "code",
   "execution_count": null,
   "id": "1cff1910",
   "metadata": {},
   "outputs": [],
   "source": [
    "m_history.groupby('Year').agg({})"
   ]
  },
  {
   "cell_type": "code",
   "execution_count": null,
   "id": "d79855ea",
   "metadata": {},
   "outputs": [],
   "source": []
  },
  {
   "cell_type": "code",
   "execution_count": null,
   "id": "bad5aa45",
   "metadata": {},
   "outputs": [],
   "source": []
  },
  {
   "cell_type": "code",
   "execution_count": null,
   "id": "baf492e0",
   "metadata": {},
   "outputs": [],
   "source": []
  },
  {
   "cell_type": "code",
   "execution_count": null,
   "id": "9b25b225",
   "metadata": {},
   "outputs": [],
   "source": [
    "# ibge_novo = pd.read_csv('../raw_data/IBGE_Soja_mensal.csv')\n",
    "# ibge_velho = pd.read_csv('../raw_data/IBGE_Soja_mensal_anterior.csv')"
   ]
  },
  {
   "cell_type": "code",
   "execution_count": null,
   "id": "b8f4853e",
   "metadata": {},
   "outputs": [],
   "source": [
    "# ibge_novo"
   ]
  },
  {
   "cell_type": "code",
   "execution_count": null,
   "id": "3d30b38f",
   "metadata": {},
   "outputs": [],
   "source": [
    "# ibge_full = ibge_velho.reset_index().sort_values(by = 'index', ascending = False).append(ibge_novo).drop(columns = 'index').reset_index().drop(columns = 'index')"
   ]
  },
  {
   "cell_type": "code",
   "execution_count": null,
   "id": "8bed5b81",
   "metadata": {},
   "outputs": [],
   "source": [
    "# ibge_full"
   ]
  },
  {
   "cell_type": "code",
   "execution_count": null,
   "id": "a295c3cc",
   "metadata": {},
   "outputs": [],
   "source": [
    "# ibge_full['Mes-Ano'] = pd.to_datetime(ibge_full['Mes-Ano'])"
   ]
  },
  {
   "cell_type": "code",
   "execution_count": null,
   "id": "5948e33f",
   "metadata": {},
   "outputs": [],
   "source": [
    "# ibge_full"
   ]
  },
  {
   "cell_type": "code",
   "execution_count": null,
   "id": "6ca06d4c",
   "metadata": {},
   "outputs": [],
   "source": [
    "# for i in ibge_full.columns:\n",
    "#     if i != 'Mes-Ano':\n",
    "#         sns.lineplot(x = ibge_full['Mes-Ano'], y = ibge_full[i])\n",
    "#         plt.show()"
   ]
  },
  {
   "cell_type": "code",
   "execution_count": null,
   "id": "b0ce8042",
   "metadata": {},
   "outputs": [],
   "source": [
    "# pivoted_data.to_csv('ourworldindata_soybean-production_pivot.csv')"
   ]
  },
  {
   "cell_type": "code",
   "execution_count": null,
   "id": "266b0e82",
   "metadata": {},
   "outputs": [],
   "source": []
  }
 ],
 "metadata": {
  "kernelspec": {
   "display_name": "Python 3 (ipykernel)",
   "language": "python",
   "name": "python3"
  },
  "language_info": {
   "codemirror_mode": {
    "name": "ipython",
    "version": 3
   },
   "file_extension": ".py",
   "mimetype": "text/x-python",
   "name": "python",
   "nbconvert_exporter": "python",
   "pygments_lexer": "ipython3",
   "version": "3.8.12"
  },
  "toc": {
   "base_numbering": 1,
   "nav_menu": {},
   "number_sections": true,
   "sideBar": true,
   "skip_h1_title": false,
   "title_cell": "Table of Contents",
   "title_sidebar": "Contents",
   "toc_cell": false,
   "toc_position": {},
   "toc_section_display": true,
   "toc_window_display": false
  }
 },
 "nbformat": 4,
 "nbformat_minor": 5
}
